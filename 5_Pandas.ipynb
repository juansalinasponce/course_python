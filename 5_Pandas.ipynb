{
  "cells": [
    {
      "cell_type": "markdown",
      "metadata": {
        "id": "YgcvUr9i_E-F"
      },
      "source": [
        "\n",
        "\n",
        "# Pandas\n",
        "\n",
        "1. `DataFrame` y  `Series`\n",
        "2. Operaciones básicas\n",
        "\n",
        "`pandas` es una librería que proporciona herramientas analíticas y estructuras de datos con alto rendimiento y facilidad de uso. En particular, la clase `DataFrame` es útil para representación y manipulación de datos heterogéneos tabulados (hojas de cálculo, tabla SQL, etc.)   \n",
        "\n",
        "## Características\n",
        "- Ofrece estructuras de datos flexibles y expresivas diseñadas para trabajar con datos tabulados y etiquetados, esta son: `Series` y  `DataFrame`.\n",
        "- Posee herramientas robustas de lectura/escritura de datos desde ficheros con formatos conocidos como: CSV, XLS. SQL, HDF5, entre otros.\n",
        "- Permite filtrar, agregar, o eliminar datos.\n",
        "- Combina las características de las matrices de alto rendimiento de `numpy` con capacidades de manipulación de datos tabulados.\n",
        "\n",
        "Para importar los módulos de la librería `pandas`, por convención se utiliza:"
      ]
    },
    {
      "cell_type": "code",
      "execution_count": 2,
      "metadata": {
        "id": "TXOn-4Q0_E-F"
      },
      "outputs": [],
      "source": [
        "import pandas as pd\n",
        "import numpy as np\n",
        "import matplotlib.pyplot as plt"
      ]
    },
    {
      "cell_type": "markdown",
      "metadata": {
        "id": "KFLYUXZX_E-H"
      },
      "source": [
        "\n",
        "\n",
        "## DataFrames y Series\n",
        "\n",
        "Las funcionalidades de `pandas` se basan en dos estructuras de datos fundamentales: *Series* y *DataFrames*.\n",
        "\n",
        "Una `Series` es un objeto que contiene un `array` unidimensional de datos y un `array` de etiquetas, conocido como *índice*. Si no se especifica un índice o etiqueta, este se genera internamente como una secuencia ordenada de números enteros.\n",
        "\n",
        "```python\n",
        "s = pd.Series(data, index=index)\n",
        "```\n",
        "\n",
        "Un `DataFrame` es una estructura de datos que almacena datos de forma tabular, es decir, ordenada en filas y columnas etiquetadas. Cada fila (`row`) contiene una observación y cada columna (`column`) una variable. Un `DataFrame` acepta datos heterogéneos, es decir, variables pueden ser de distinto tipo (numérico, string, boolean, etc.). Además de contener datos, un `DataFrame` contiene el nombre de las variables y sus tipos, y métodos que permiten acceder y modificar los datos.\n",
        "\n",
        "```python\n",
        "s = pd.DataFrame(data, ...)\n",
        "```\n",
        "\n",
        "Las `Series` y `DataFrame` permiten representar datos 1D y 2D. Para representar datos con más dimensiones `pandas` posee otras estructuras de datos más complejas (en fase experimental), llamadas `Panel`, `Panel4D`, `PanelND`. Estas estructuras están fuera del alcance de este curso."
      ]
    },
    {
      "cell_type": "markdown",
      "metadata": {
        "id": "8EVvtS4s_E-I"
      },
      "source": [
        "\n",
        "\n",
        "---\n",
        "# Series en Pandas\n",
        "\n",
        "## Creación de Series\n"
      ]
    },
    {
      "cell_type": "markdown",
      "metadata": {
        "id": "85mS5ki6_E-I"
      },
      "source": [
        "\n",
        "\n",
        "Crear una Series con índices automáticos a partir de una lista"
      ]
    },
    {
      "cell_type": "code",
      "execution_count": 3,
      "metadata": {
        "colab": {
          "base_uri": "https://localhost:8080/"
        },
        "id": "fd48t5GF_E-J",
        "outputId": "9d439b85-50ac-4089-e3da-a665c463a8d6"
      },
      "outputs": [
        {
          "data": {
            "text/plain": [
              "0    1979\n",
              "1    1980\n",
              "2    1981\n",
              "3    1982\n",
              "dtype: int64"
            ]
          },
          "execution_count": 3,
          "metadata": {
            "tags": []
          },
          "output_type": "execute_result"
        }
      ],
      "source": [
        "serie = pd.Series([1979, 1980, 1981, 1982])\n",
        "serie"
      ]
    },
    {
      "cell_type": "markdown",
      "metadata": {
        "id": "bjWxBJ5F_E-K"
      },
      "source": [
        "\n",
        "\n",
        "Las `Series` poseen dos atributos: `values`  e `index`. El primero es un `numpy array` que almacena los datos, y el segundo es un objeto que contiene los índices."
      ]
    },
    {
      "cell_type": "code",
      "execution_count": 4,
      "metadata": {
        "colab": {
          "base_uri": "https://localhost:8080/"
        },
        "id": "5bn5HYun_E-L",
        "outputId": "83288c49-5d05-49f9-88cc-0da9059182c6"
      },
      "outputs": [
        {
          "data": {
            "text/plain": [
              "array([1979, 1980, 1981, 1982])"
            ]
          },
          "execution_count": 4,
          "metadata": {
            "tags": []
          },
          "output_type": "execute_result"
        }
      ],
      "source": [
        "serie.values"
      ]
    },
    {
      "cell_type": "code",
      "execution_count": 5,
      "metadata": {
        "colab": {
          "base_uri": "https://localhost:8080/"
        },
        "id": "CaBleUBU_E-M",
        "outputId": "59f530cf-445a-4efd-9010-6ae71be202fe"
      },
      "outputs": [
        {
          "data": {
            "text/plain": [
              "RangeIndex(start=0, stop=4, step=1)"
            ]
          },
          "execution_count": 5,
          "metadata": {
            "tags": []
          },
          "output_type": "execute_result"
        }
      ],
      "source": [
        "serie.index"
      ]
    },
    {
      "cell_type": "markdown",
      "metadata": {
        "id": "lTiuGiQ-_E-O"
      },
      "source": [
        "\n",
        "\n",
        "Al crear una `Series` se puede definir explícitamente un `array` índice y pasarlo como argumento."
      ]
    },
    {
      "cell_type": "markdown",
      "metadata": {
        "id": "xvKAUjKG_E-O"
      },
      "source": [
        "\n",
        "\n",
        "Crear Series con índices definidos"
      ]
    },
    {
      "cell_type": "code",
      "execution_count": 6,
      "metadata": {
        "colab": {
          "base_uri": "https://localhost:8080/"
        },
        "id": "oFajvo0H_E-P",
        "outputId": "52bdcc1f-2916-474e-e38b-9936e207bb18"
      },
      "outputs": [
        {
          "data": {
            "text/plain": [
              "carolina    1979\n",
              "martha      1980\n",
              "nicky       1981\n",
              "theresa     1982\n",
              "nicky       1983\n",
              "dtype: int64"
            ]
          },
          "execution_count": 6,
          "metadata": {
            "tags": []
          },
          "output_type": "execute_result"
        }
      ],
      "source": [
        "serie = pd.Series(data=[1979, 1980, 1981, 1982, 1983],\n",
        "                  index=['carolina', 'martha', 'nicky', 'theresa', 'nicky'])\n",
        "serie"
      ]
    },
    {
      "cell_type": "markdown",
      "metadata": {
        "id": "wdGqwAJo_E-R"
      },
      "source": [
        "\n",
        "\n",
        "También se pueden crear `Series` a partir de diccionarios, `numpy arrays`, desde ficheros, etc."
      ]
    },
    {
      "cell_type": "markdown",
      "metadata": {
        "id": "VAEUq65O_E-b"
      },
      "source": [
        "Serie a partir de un fichero de datos, se asigna una columna y el squeeze a True convierte el resultado en Series en lugar de Dataframe."
      ]
    },
    {
      "cell_type": "code",
      "execution_count": 8,
      "metadata": {
        "colab": {
          "base_uri": "https://localhost:8080/"
        },
        "id": "qEKkwgGn_E-c",
        "outputId": "0b3963a8-bc82-42ed-979f-2a982029bf41"
      },
      "outputs": [
        {
          "data": {
            "text/plain": [
              "0           Bulbasaur\n",
              "1             Ivysaur\n",
              "2            Venusaur\n",
              "3       Mega Venusaur\n",
              "4          Charmander\n",
              "            ...      \n",
              "795           Diancie\n",
              "796      Mega Diancie\n",
              "797    Hoopa Confined\n",
              "798     Hoopa Unbound\n",
              "799         Volcanion\n",
              "Name: Name, Length: 800, dtype: object"
            ]
          },
          "execution_count": 8,
          "metadata": {
            "tags": []
          },
          "output_type": "execute_result"
        }
      ],
      "source": [
        "serie_pokemon = pd.read_csv('pokemon.csv', squeeze=True, usecols=['Name'])\n",
        "serie_pokemon"
      ]
    },
    {
      "cell_type": "markdown",
      "metadata": {
        "id": "Vl0iI22e_E-d"
      },
      "source": [
        "\n",
        "\n",
        "---\n",
        "## Acceso a datos en Series\n"
      ]
    },
    {
      "cell_type": "markdown",
      "metadata": {
        "id": "bfRwG-V0_E-g"
      },
      "source": [
        "\n",
        "\n",
        "El acceso a los datos se puede realizar mediante el índice categórico o el numérico que genera internamente Pandas"
      ]
    },
    {
      "cell_type": "markdown",
      "metadata": {
        "id": "Te4SARJI_E-g"
      },
      "source": [
        "\n",
        "\n",
        "Creamos de nuevo la serie inicial"
      ]
    },
    {
      "cell_type": "code",
      "execution_count": null,
      "metadata": {
        "id": "gNCzm1iN_E-h"
      },
      "outputs": [],
      "source": [
        "serie = pd.Series(data=[1979, 1980, 1981, 1982, 1983],\n",
        "                  index=['carolina', 'martha', 'nicky', 'theresa', 'nicky'])\n",
        "serie"
      ]
    },
    {
      "cell_type": "markdown",
      "metadata": {
        "id": "9ZjCB5aG_E-i"
      },
      "source": [
        "\n",
        "\n",
        "Indexación mediante etiqueta"
      ]
    },
    {
      "cell_type": "code",
      "execution_count": 9,
      "metadata": {
        "colab": {
          "base_uri": "https://localhost:8080/"
        },
        "id": "4OAJ9dPL_E-j",
        "outputId": "8190a1dd-83c1-4bb3-e6cb-bd6d5aa49427"
      },
      "outputs": [
        {
          "name": "stdout",
          "output_type": "stream",
          "text": [
            "1980\n"
          ]
        }
      ],
      "source": [
        "print(serie['martha'])"
      ]
    },
    {
      "cell_type": "markdown",
      "metadata": {
        "id": "J82CMVAp_E-k"
      },
      "source": [
        "\n",
        "\n",
        "Indexación mediante índice numérico interno"
      ]
    },
    {
      "cell_type": "code",
      "execution_count": 10,
      "metadata": {
        "colab": {
          "base_uri": "https://localhost:8080/"
        },
        "id": "YY7XUdQI_E-l",
        "outputId": "09f0af44-33e9-4bcc-9092-7ab95ffca1e6"
      },
      "outputs": [
        {
          "name": "stdout",
          "output_type": "stream",
          "text": [
            "1980\n"
          ]
        }
      ],
      "source": [
        "print(serie[1])"
      ]
    },
    {
      "cell_type": "markdown",
      "metadata": {
        "id": "mKCisPEB_E-n"
      },
      "source": [
        "\n",
        "\n",
        "El índice puede contener valores duplicados"
      ]
    },
    {
      "cell_type": "code",
      "execution_count": 11,
      "metadata": {
        "colab": {
          "base_uri": "https://localhost:8080/"
        },
        "id": "oYsWsHmz_E-o",
        "outputId": "f13de905-fb57-472e-97d2-3106fff990d1"
      },
      "outputs": [
        {
          "name": "stdout",
          "output_type": "stream",
          "text": [
            "nicky    1981\n",
            "nicky    1983\n",
            "dtype: int64\n"
          ]
        }
      ],
      "source": [
        "print(serie['nicky'])"
      ]
    },
    {
      "cell_type": "markdown",
      "metadata": {
        "id": "iaNiqr6J_E-s"
      },
      "source": [
        "\n",
        "\n",
        "Podemos seleccionar varios valores indicando un intervalo de índices"
      ]
    },
    {
      "cell_type": "markdown",
      "metadata": {
        "id": "FXrifxcc_E-t"
      },
      "source": [
        "\n",
        "\n",
        "Recuperamos desde el valor de la posición 1 (el primer elemento tiene un index = 0) hasta el final del índice."
      ]
    },
    {
      "cell_type": "code",
      "execution_count": null,
      "metadata": {
        "id": "5K2XejzK_E-u"
      },
      "outputs": [],
      "source": [
        "serie[1:]"
      ]
    },
    {
      "cell_type": "markdown",
      "metadata": {
        "id": "OC6KSWXM_E-w"
      },
      "source": [
        "\n",
        "\n",
        "Recuperamos los elementos desde la posición 1 a la 2"
      ]
    },
    {
      "cell_type": "code",
      "execution_count": null,
      "metadata": {
        "id": "9SWti3fL_E-x"
      },
      "outputs": [],
      "source": [
        "serie[1:3]"
      ]
    },
    {
      "cell_type": "markdown",
      "metadata": {
        "id": "aJgd1Ko8_E-z"
      },
      "source": [
        "\n",
        "\n",
        "Podemos usar también índices negativos"
      ]
    },
    {
      "cell_type": "code",
      "execution_count": null,
      "metadata": {
        "id": "hs-YDHtw_E-z"
      },
      "outputs": [],
      "source": [
        "serie[-4:-2]"
      ]
    },
    {
      "cell_type": "markdown",
      "metadata": {
        "id": "3KfYg3Ya_E-1"
      },
      "source": [
        "\n",
        "\n",
        "---\n",
        "## Métodos en Series"
      ]
    },
    {
      "cell_type": "markdown",
      "metadata": {
        "id": "2bNa4ZHq_E_N"
      },
      "source": [
        "\n",
        "\n",
        "Ordena los valores, por defecto de menos a más."
      ]
    },
    {
      "cell_type": "code",
      "execution_count": 12,
      "metadata": {
        "colab": {
          "base_uri": "https://localhost:8080/"
        },
        "id": "Vqai4DBG_E_N",
        "outputId": "b123b7a1-9c91-4f14-abb8-99f2479932c0"
      },
      "outputs": [
        {
          "data": {
            "text/plain": [
              "carolina    1979\n",
              "martha      1980\n",
              "nicky       1981\n",
              "theresa     1982\n",
              "nicky       1983\n",
              "dtype: int64"
            ]
          },
          "execution_count": 12,
          "metadata": {
            "tags": []
          },
          "output_type": "execute_result"
        }
      ],
      "source": [
        "serie.sort_values()"
      ]
    },
    {
      "cell_type": "markdown",
      "metadata": {
        "id": "hQ2rDR2F_E_Q"
      },
      "source": [
        "\n",
        "\n",
        "Ordenamos de forma descendente"
      ]
    },
    {
      "cell_type": "code",
      "execution_count": 13,
      "metadata": {
        "colab": {
          "base_uri": "https://localhost:8080/"
        },
        "id": "2H3foggR_E_Q",
        "outputId": "9b8f65a9-b591-4a85-8afb-f9a2d310fff6"
      },
      "outputs": [
        {
          "data": {
            "text/plain": [
              "nicky       1983\n",
              "theresa     1982\n",
              "nicky       1981\n",
              "martha      1980\n",
              "carolina    1979\n",
              "dtype: int64"
            ]
          },
          "execution_count": 13,
          "metadata": {
            "tags": []
          },
          "output_type": "execute_result"
        }
      ],
      "source": [
        "serie.sort_values(ascending=False)"
      ]
    },
    {
      "cell_type": "markdown",
      "metadata": {
        "id": "77GzQE5A_E_U"
      },
      "source": [
        "\n",
        "\n",
        "Para que los cambios modifique realmente la serie hay que indicarlo mediante el parámetro inplace"
      ]
    },
    {
      "cell_type": "code",
      "execution_count": 14,
      "metadata": {
        "colab": {
          "base_uri": "https://localhost:8080/"
        },
        "id": "j2vmKOO6_E_V",
        "outputId": "4c598600-5294-4bbf-81c0-e3eb231dacab"
      },
      "outputs": [
        {
          "data": {
            "text/plain": [
              "510                Abomasnow\n",
              "68                      Abra\n",
              "392                    Absol\n",
              "678                 Accelgor\n",
              "750    Aegislash Blade Forme\n",
              "               ...          \n",
              "631                    Zorua\n",
              "46                     Zubat\n",
              "695                 Zweilous\n",
              "794       Zygarde Half Forme\n",
              "62                       NaN\n",
              "Name: Name, Length: 800, dtype: object"
            ]
          },
          "execution_count": 14,
          "metadata": {
            "tags": []
          },
          "output_type": "execute_result"
        }
      ],
      "source": [
        "serie_pokemon.sort_values(inplace=True)\n",
        "serie_pokemon"
      ]
    },
    {
      "cell_type": "markdown",
      "metadata": {
        "id": "5KBzJgo7_E_Y"
      },
      "source": [
        "\n",
        "\n",
        "Si queremos ordernar mediante el índice recurrimos a sort_index()"
      ]
    },
    {
      "cell_type": "code",
      "execution_count": 15,
      "metadata": {
        "colab": {
          "base_uri": "https://localhost:8080/"
        },
        "id": "UtTp1uOY_E_Z",
        "outputId": "1a1bb848-0916-4b87-c106-b9dd9754ece6"
      },
      "outputs": [
        {
          "data": {
            "text/plain": [
              "0           Bulbasaur\n",
              "1             Ivysaur\n",
              "2            Venusaur\n",
              "3       Mega Venusaur\n",
              "4          Charmander\n",
              "            ...      \n",
              "795           Diancie\n",
              "796      Mega Diancie\n",
              "797    Hoopa Confined\n",
              "798     Hoopa Unbound\n",
              "799         Volcanion\n",
              "Name: Name, Length: 800, dtype: object"
            ]
          },
          "execution_count": 15,
          "metadata": {
            "tags": []
          },
          "output_type": "execute_result"
        }
      ],
      "source": [
        "serie_pokemon.sort_index()"
      ]
    },
    {
      "cell_type": "markdown",
      "metadata": {
        "id": "0uJ_BOfK_E_a"
      },
      "source": [
        "\n",
        "\n",
        "Nos devuelve el número de items de cada elemento"
      ]
    },
    {
      "cell_type": "code",
      "execution_count": null,
      "metadata": {
        "id": "LbWpcVoO_E_a"
      },
      "outputs": [],
      "source": [
        "serie_pokemon.value_counts()"
      ]
    },
    {
      "cell_type": "markdown",
      "metadata": {
        "id": "cg9swk22_E_h"
      },
      "source": [
        "\n",
        "\n",
        "---\n",
        "# Dataframes en Pandas\n",
        "\n",
        "## Creación de Dataframes\n",
        "\n",
        "A diferencia de `Series`, los `DataFrame` están diseñados para almacenar datos heterogéneos multivariables. Por ejemplo:"
      ]
    },
    {
      "cell_type": "markdown",
      "metadata": {
        "id": "JzKtzCsD_E_h"
      },
      "source": [
        "\n",
        "\n",
        "Índice de filas automático"
      ]
    },
    {
      "cell_type": "code",
      "execution_count": 16,
      "metadata": {
        "colab": {
          "base_uri": "https://localhost:8080/",
          "height": 198
        },
        "id": "mCDsL9Gh_E_h",
        "outputId": "47379660-9197-499c-ccd2-43c12b6dfe15"
      },
      "outputs": [
        {
          "data": {
            "text/html": [
              "<div>\n",
              "<style scoped>\n",
              "    .dataframe tbody tr th:only-of-type {\n",
              "        vertical-align: middle;\n",
              "    }\n",
              "\n",
              "    .dataframe tbody tr th {\n",
              "        vertical-align: top;\n",
              "    }\n",
              "\n",
              "    .dataframe thead th {\n",
              "        text-align: right;\n",
              "    }\n",
              "</style>\n",
              "<table border=\"1\" class=\"dataframe\">\n",
              "  <thead>\n",
              "    <tr style=\"text-align: right;\">\n",
              "      <th></th>\n",
              "      <th>state</th>\n",
              "      <th>year</th>\n",
              "      <th>pop</th>\n",
              "    </tr>\n",
              "  </thead>\n",
              "  <tbody>\n",
              "    <tr>\n",
              "      <th>0</th>\n",
              "      <td>Ohio</td>\n",
              "      <td>2000</td>\n",
              "      <td>1.5</td>\n",
              "    </tr>\n",
              "    <tr>\n",
              "      <th>1</th>\n",
              "      <td>Ohio</td>\n",
              "      <td>2001</td>\n",
              "      <td>1.7</td>\n",
              "    </tr>\n",
              "    <tr>\n",
              "      <th>2</th>\n",
              "      <td>Ohio</td>\n",
              "      <td>2002</td>\n",
              "      <td>3.6</td>\n",
              "    </tr>\n",
              "    <tr>\n",
              "      <th>3</th>\n",
              "      <td>Nevada</td>\n",
              "      <td>2001</td>\n",
              "      <td>2.4</td>\n",
              "    </tr>\n",
              "    <tr>\n",
              "      <th>4</th>\n",
              "      <td>Nevada</td>\n",
              "      <td>2002</td>\n",
              "      <td>2.9</td>\n",
              "    </tr>\n",
              "  </tbody>\n",
              "</table>\n",
              "</div>"
            ],
            "text/plain": [
              "    state  year  pop\n",
              "0    Ohio  2000  1.5\n",
              "1    Ohio  2001  1.7\n",
              "2    Ohio  2002  3.6\n",
              "3  Nevada  2001  2.4\n",
              "4  Nevada  2002  2.9"
            ]
          },
          "execution_count": 16,
          "metadata": {
            "tags": []
          },
          "output_type": "execute_result"
        }
      ],
      "source": [
        "data = {'state': ['Ohio', 'Ohio', 'Ohio', 'Nevada', 'Nevada'],\n",
        "        'year': [2000, 2001, 2002, 2001, 2002],\n",
        "        'pop': [1.5, 1.7, 3.6, 2.4, 2.9]}\n",
        "\n",
        "df = pd.DataFrame(data)\n",
        "df"
      ]
    },
    {
      "cell_type": "code",
      "execution_count": 17,
      "metadata": {
        "id": "H42PAh_A_E_o"
      },
      "outputs": [],
      "source": [
        "import numpy as np\n",
        "import pandas as pd"
      ]
    },
    {
      "cell_type": "markdown",
      "metadata": {
        "id": "ADhw04U__E_q"
      },
      "source": [
        "\n",
        "\n",
        "DataFrame a partir de un diccionario de listas e índice"
      ]
    },
    {
      "cell_type": "code",
      "execution_count": 18,
      "metadata": {
        "colab": {
          "base_uri": "https://localhost:8080/",
          "height": 108
        },
        "id": "vQ3U8mFU_E_r",
        "outputId": "e8b8fa1c-284d-49fe-ab7c-38582c0ce2e8"
      },
      "outputs": [
        {
          "data": {
            "text/html": [
              "<div>\n",
              "<style scoped>\n",
              "    .dataframe tbody tr th:only-of-type {\n",
              "        vertical-align: middle;\n",
              "    }\n",
              "\n",
              "    .dataframe tbody tr th {\n",
              "        vertical-align: top;\n",
              "    }\n",
              "\n",
              "    .dataframe thead th {\n",
              "        text-align: right;\n",
              "    }\n",
              "</style>\n",
              "<table border=\"1\" class=\"dataframe\">\n",
              "  <thead>\n",
              "    <tr style=\"text-align: right;\">\n",
              "      <th></th>\n",
              "      <th>nombre</th>\n",
              "      <th>score</th>\n",
              "    </tr>\n",
              "  </thead>\n",
              "  <tbody>\n",
              "    <tr>\n",
              "      <th>id1</th>\n",
              "      <td>Pablo</td>\n",
              "      <td>22.2</td>\n",
              "    </tr>\n",
              "    <tr>\n",
              "      <th>id2</th>\n",
              "      <td>Teresa</td>\n",
              "      <td>33.3</td>\n",
              "    </tr>\n",
              "  </tbody>\n",
              "</table>\n",
              "</div>"
            ],
            "text/plain": [
              "     nombre  score\n",
              "id1   Pablo   22.2\n",
              "id2  Teresa   33.3"
            ]
          },
          "execution_count": 18,
          "metadata": {
            "tags": []
          },
          "output_type": "execute_result"
        }
      ],
      "source": [
        "df = pd.DataFrame({'nombre': ['Pablo', 'Teresa'],\n",
        "                   'score': [22.2, 33.3]},\n",
        "                  index=['id1', 'id2'])\n",
        "df"
      ]
    },
    {
      "cell_type": "markdown",
      "metadata": {
        "id": "o6XmjOMT_E_u"
      },
      "source": [
        "\n",
        "\n",
        "Dataframe a partir fichero"
      ]
    },
    {
      "cell_type": "code",
      "execution_count": 20,
      "metadata": {
        "id": "OWwJZWwBv53X"
      },
      "outputs": [],
      "source": [
        "nba = pd.read_csv('nba.csv')"
      ]
    },
    {
      "cell_type": "markdown",
      "metadata": {
        "id": "o2TVy99w_E_z"
      },
      "source": [
        "\n",
        "\n",
        "Se pueden consultar el nombre de las variables usando el atributo `columns`"
      ]
    },
    {
      "cell_type": "code",
      "execution_count": 21,
      "metadata": {
        "colab": {
          "base_uri": "https://localhost:8080/"
        },
        "id": "x-1L8Ikn_E_0",
        "outputId": "b1412f2d-a8d9-4947-d97e-45135f93f8ff"
      },
      "outputs": [
        {
          "data": {
            "text/plain": [
              "Index(['Player', 'height', 'weight', 'collage', 'born', 'birth_city',\n",
              "       'birth_state'],\n",
              "      dtype='object')"
            ]
          },
          "execution_count": 21,
          "metadata": {
            "tags": []
          },
          "output_type": "execute_result"
        }
      ],
      "source": [
        "nba.columns"
      ]
    },
    {
      "cell_type": "code",
      "execution_count": 22,
      "metadata": {
        "colab": {
          "base_uri": "https://localhost:8080/",
          "height": 348
        },
        "id": "QricvrnkgZl8",
        "outputId": "f7770e4d-562d-4a65-e74e-e3c75698b322"
      },
      "outputs": [
        {
          "data": {
            "text/html": [
              "<div>\n",
              "<style scoped>\n",
              "    .dataframe tbody tr th:only-of-type {\n",
              "        vertical-align: middle;\n",
              "    }\n",
              "\n",
              "    .dataframe tbody tr th {\n",
              "        vertical-align: top;\n",
              "    }\n",
              "\n",
              "    .dataframe thead th {\n",
              "        text-align: right;\n",
              "    }\n",
              "</style>\n",
              "<table border=\"1\" class=\"dataframe\">\n",
              "  <thead>\n",
              "    <tr style=\"text-align: right;\">\n",
              "      <th></th>\n",
              "      <th>Player</th>\n",
              "      <th>height</th>\n",
              "      <th>weight</th>\n",
              "      <th>collage</th>\n",
              "      <th>born</th>\n",
              "      <th>birth_city</th>\n",
              "      <th>birth_state</th>\n",
              "    </tr>\n",
              "  </thead>\n",
              "  <tbody>\n",
              "    <tr>\n",
              "      <th>0</th>\n",
              "      <td>Curly Armstrong</td>\n",
              "      <td>180.0</td>\n",
              "      <td>77.0</td>\n",
              "      <td>Indiana University</td>\n",
              "      <td>1918.0</td>\n",
              "      <td>NaN</td>\n",
              "      <td>NaN</td>\n",
              "    </tr>\n",
              "    <tr>\n",
              "      <th>1</th>\n",
              "      <td>Cliff Barker</td>\n",
              "      <td>188.0</td>\n",
              "      <td>83.0</td>\n",
              "      <td>University of Kentucky</td>\n",
              "      <td>1921.0</td>\n",
              "      <td>Yorktown</td>\n",
              "      <td>Indiana</td>\n",
              "    </tr>\n",
              "    <tr>\n",
              "      <th>2</th>\n",
              "      <td>Leo Barnhorst</td>\n",
              "      <td>193.0</td>\n",
              "      <td>86.0</td>\n",
              "      <td>University of Notre Dame</td>\n",
              "      <td>1924.0</td>\n",
              "      <td>NaN</td>\n",
              "      <td>NaN</td>\n",
              "    </tr>\n",
              "    <tr>\n",
              "      <th>3</th>\n",
              "      <td>Ed Bartels</td>\n",
              "      <td>196.0</td>\n",
              "      <td>88.0</td>\n",
              "      <td>North Carolina State University</td>\n",
              "      <td>1925.0</td>\n",
              "      <td>NaN</td>\n",
              "      <td>NaN</td>\n",
              "    </tr>\n",
              "    <tr>\n",
              "      <th>4</th>\n",
              "      <td>Ralph Beard</td>\n",
              "      <td>178.0</td>\n",
              "      <td>79.0</td>\n",
              "      <td>University of Kentucky</td>\n",
              "      <td>1927.0</td>\n",
              "      <td>Hardinsburg</td>\n",
              "      <td>Kentucky</td>\n",
              "    </tr>\n",
              "    <tr>\n",
              "      <th>5</th>\n",
              "      <td>Gene Berce</td>\n",
              "      <td>180.0</td>\n",
              "      <td>79.0</td>\n",
              "      <td>Marquette University</td>\n",
              "      <td>1926.0</td>\n",
              "      <td>NaN</td>\n",
              "      <td>NaN</td>\n",
              "    </tr>\n",
              "    <tr>\n",
              "      <th>6</th>\n",
              "      <td>Charlie Black</td>\n",
              "      <td>196.0</td>\n",
              "      <td>90.0</td>\n",
              "      <td>University of Kansas</td>\n",
              "      <td>1921.0</td>\n",
              "      <td>Arco</td>\n",
              "      <td>Idaho</td>\n",
              "    </tr>\n",
              "    <tr>\n",
              "      <th>7</th>\n",
              "      <td>Nelson Bobb</td>\n",
              "      <td>183.0</td>\n",
              "      <td>77.0</td>\n",
              "      <td>Temple University</td>\n",
              "      <td>1924.0</td>\n",
              "      <td>Philadelphia</td>\n",
              "      <td>Pennsylvania</td>\n",
              "    </tr>\n",
              "    <tr>\n",
              "      <th>8</th>\n",
              "      <td>Jake Bornheimer</td>\n",
              "      <td>196.0</td>\n",
              "      <td>90.0</td>\n",
              "      <td>Muhlenberg College</td>\n",
              "      <td>1927.0</td>\n",
              "      <td>New Brunswick</td>\n",
              "      <td>New Jersey</td>\n",
              "    </tr>\n",
              "    <tr>\n",
              "      <th>9</th>\n",
              "      <td>Vince Boryla</td>\n",
              "      <td>196.0</td>\n",
              "      <td>95.0</td>\n",
              "      <td>University of Denver</td>\n",
              "      <td>1927.0</td>\n",
              "      <td>East Chicago</td>\n",
              "      <td>Indiana</td>\n",
              "    </tr>\n",
              "  </tbody>\n",
              "</table>\n",
              "</div>"
            ],
            "text/plain": [
              "            Player  height  weight  ...    born     birth_city   birth_state\n",
              "0  Curly Armstrong   180.0    77.0  ...  1918.0            NaN           NaN\n",
              "1     Cliff Barker   188.0    83.0  ...  1921.0       Yorktown       Indiana\n",
              "2    Leo Barnhorst   193.0    86.0  ...  1924.0            NaN           NaN\n",
              "3       Ed Bartels   196.0    88.0  ...  1925.0            NaN           NaN\n",
              "4      Ralph Beard   178.0    79.0  ...  1927.0    Hardinsburg      Kentucky\n",
              "5       Gene Berce   180.0    79.0  ...  1926.0            NaN           NaN\n",
              "6    Charlie Black   196.0    90.0  ...  1921.0           Arco         Idaho\n",
              "7      Nelson Bobb   183.0    77.0  ...  1924.0   Philadelphia  Pennsylvania\n",
              "8  Jake Bornheimer   196.0    90.0  ...  1927.0  New Brunswick    New Jersey\n",
              "9     Vince Boryla   196.0    95.0  ...  1927.0   East Chicago       Indiana\n",
              "\n",
              "[10 rows x 7 columns]"
            ]
          },
          "execution_count": 22,
          "metadata": {
            "tags": []
          },
          "output_type": "execute_result"
        }
      ],
      "source": [
        "nba.head(10)"
      ]
    },
    {
      "cell_type": "markdown",
      "metadata": {
        "id": "hUSf5dm1_E_2"
      },
      "source": [
        "\n",
        "\n",
        "---\n",
        "## Acceso a datos en Dataframes\n"
      ]
    },
    {
      "cell_type": "markdown",
      "metadata": {
        "id": "njRdkDlU_E_2"
      },
      "source": [
        "\n",
        "\n",
        "Se pueden extraer columnas de un `DataFrame` con la etiqueta de la columna (sólo si es un identificador Python válido)  usando notación tipo diccionario o como atributo del objeto. En ambos casos se obtiene un objeto tipo `Series`."
      ]
    },
    {
      "cell_type": "code",
      "execution_count": 24,
      "metadata": {
        "colab": {
          "base_uri": "https://localhost:8080/"
        },
        "id": "L92JDqnw_E_3",
        "outputId": "8bf9d859-db0f-4996-b503-ea63c08001a3"
      },
      "outputs": [
        {
          "data": {
            "text/plain": [
              "0         Curly Armstrong\n",
              "1            Cliff Barker\n",
              "2           Leo Barnhorst\n",
              "3              Ed Bartels\n",
              "4             Ralph Beard\n",
              "              ...        \n",
              "3917        Troy Williams\n",
              "3918         Kyle Wiltjer\n",
              "3919    Stephen Zimmerman\n",
              "3920          Paul Zipser\n",
              "3921          Ivica Zubac\n",
              "Name: Player, Length: 3922, dtype: object"
            ]
          },
          "execution_count": 24,
          "metadata": {
            "tags": []
          },
          "output_type": "execute_result"
        }
      ],
      "source": [
        "nba['Player']  # dict type"
      ]
    },
    {
      "cell_type": "code",
      "execution_count": 25,
      "metadata": {
        "colab": {
          "base_uri": "https://localhost:8080/"
        },
        "id": "D3k33m9t_E_4",
        "outputId": "93f1914e-3160-4334-cee9-9d15150cefcf"
      },
      "outputs": [
        {
          "data": {
            "text/plain": [
              "0         Curly Armstrong\n",
              "1            Cliff Barker\n",
              "2           Leo Barnhorst\n",
              "3              Ed Bartels\n",
              "4             Ralph Beard\n",
              "              ...        \n",
              "3917        Troy Williams\n",
              "3918         Kyle Wiltjer\n",
              "3919    Stephen Zimmerman\n",
              "3920          Paul Zipser\n",
              "3921          Ivica Zubac\n",
              "Name: Player, Length: 3922, dtype: object"
            ]
          },
          "execution_count": 25,
          "metadata": {
            "tags": []
          },
          "output_type": "execute_result"
        }
      ],
      "source": [
        "nba.Player  # attribute type"
      ]
    },
    {
      "cell_type": "markdown",
      "metadata": {
        "id": "x2dKLtFT_E_5"
      },
      "source": [
        "\n",
        "\n",
        "Mediante la notación de dobles [] obtenemos un Dataframe en lugar de una Serie"
      ]
    },
    {
      "cell_type": "code",
      "execution_count": 26,
      "metadata": {
        "colab": {
          "base_uri": "https://localhost:8080/",
          "height": 407
        },
        "id": "s2yCb6bG_E_6",
        "outputId": "10262c27-a2d2-420b-c59d-e619db13642e"
      },
      "outputs": [
        {
          "data": {
            "text/html": [
              "<div>\n",
              "<style scoped>\n",
              "    .dataframe tbody tr th:only-of-type {\n",
              "        vertical-align: middle;\n",
              "    }\n",
              "\n",
              "    .dataframe tbody tr th {\n",
              "        vertical-align: top;\n",
              "    }\n",
              "\n",
              "    .dataframe thead th {\n",
              "        text-align: right;\n",
              "    }\n",
              "</style>\n",
              "<table border=\"1\" class=\"dataframe\">\n",
              "  <thead>\n",
              "    <tr style=\"text-align: right;\">\n",
              "      <th></th>\n",
              "      <th>Player</th>\n",
              "    </tr>\n",
              "  </thead>\n",
              "  <tbody>\n",
              "    <tr>\n",
              "      <th>0</th>\n",
              "      <td>Curly Armstrong</td>\n",
              "    </tr>\n",
              "    <tr>\n",
              "      <th>1</th>\n",
              "      <td>Cliff Barker</td>\n",
              "    </tr>\n",
              "    <tr>\n",
              "      <th>2</th>\n",
              "      <td>Leo Barnhorst</td>\n",
              "    </tr>\n",
              "    <tr>\n",
              "      <th>3</th>\n",
              "      <td>Ed Bartels</td>\n",
              "    </tr>\n",
              "    <tr>\n",
              "      <th>4</th>\n",
              "      <td>Ralph Beard</td>\n",
              "    </tr>\n",
              "    <tr>\n",
              "      <th>...</th>\n",
              "      <td>...</td>\n",
              "    </tr>\n",
              "    <tr>\n",
              "      <th>3917</th>\n",
              "      <td>Troy Williams</td>\n",
              "    </tr>\n",
              "    <tr>\n",
              "      <th>3918</th>\n",
              "      <td>Kyle Wiltjer</td>\n",
              "    </tr>\n",
              "    <tr>\n",
              "      <th>3919</th>\n",
              "      <td>Stephen Zimmerman</td>\n",
              "    </tr>\n",
              "    <tr>\n",
              "      <th>3920</th>\n",
              "      <td>Paul Zipser</td>\n",
              "    </tr>\n",
              "    <tr>\n",
              "      <th>3921</th>\n",
              "      <td>Ivica Zubac</td>\n",
              "    </tr>\n",
              "  </tbody>\n",
              "</table>\n",
              "<p>3922 rows × 1 columns</p>\n",
              "</div>"
            ],
            "text/plain": [
              "                 Player\n",
              "0       Curly Armstrong\n",
              "1          Cliff Barker\n",
              "2         Leo Barnhorst\n",
              "3            Ed Bartels\n",
              "4           Ralph Beard\n",
              "...                 ...\n",
              "3917      Troy Williams\n",
              "3918       Kyle Wiltjer\n",
              "3919  Stephen Zimmerman\n",
              "3920        Paul Zipser\n",
              "3921        Ivica Zubac\n",
              "\n",
              "[3922 rows x 1 columns]"
            ]
          },
          "execution_count": 26,
          "metadata": {
            "tags": []
          },
          "output_type": "execute_result"
        }
      ],
      "source": [
        "nba[['Player']]"
      ]
    },
    {
      "cell_type": "code",
      "execution_count": 27,
      "metadata": {
        "colab": {
          "base_uri": "https://localhost:8080/"
        },
        "id": "mavuyoee_E_9",
        "outputId": "eab63fa8-dd2a-423e-ce35-7440ae0b73ff"
      },
      "outputs": [
        {
          "data": {
            "text/plain": [
              "(pandas.core.series.Series,\n",
              " pandas.core.series.Series,\n",
              " pandas.core.frame.DataFrame)"
            ]
          },
          "execution_count": 27,
          "metadata": {
            "tags": []
          },
          "output_type": "execute_result"
        }
      ],
      "source": [
        "type(nba.Player), type(nba['Player']), type(nba[['Player']])"
      ]
    },
    {
      "cell_type": "markdown",
      "metadata": {
        "id": "MszsbBul_E_-"
      },
      "source": [
        "\n",
        "\n",
        "Podemos recuperar varias columnas a la vez"
      ]
    },
    {
      "cell_type": "code",
      "execution_count": 28,
      "metadata": {
        "colab": {
          "base_uri": "https://localhost:8080/",
          "height": 407
        },
        "id": "fMqHdRRc_E__",
        "outputId": "a920d554-5171-469b-e13e-87f100578cf6"
      },
      "outputs": [
        {
          "data": {
            "text/html": [
              "<div>\n",
              "<style scoped>\n",
              "    .dataframe tbody tr th:only-of-type {\n",
              "        vertical-align: middle;\n",
              "    }\n",
              "\n",
              "    .dataframe tbody tr th {\n",
              "        vertical-align: top;\n",
              "    }\n",
              "\n",
              "    .dataframe thead th {\n",
              "        text-align: right;\n",
              "    }\n",
              "</style>\n",
              "<table border=\"1\" class=\"dataframe\">\n",
              "  <thead>\n",
              "    <tr style=\"text-align: right;\">\n",
              "      <th></th>\n",
              "      <th>Player</th>\n",
              "      <th>height</th>\n",
              "    </tr>\n",
              "  </thead>\n",
              "  <tbody>\n",
              "    <tr>\n",
              "      <th>0</th>\n",
              "      <td>Curly Armstrong</td>\n",
              "      <td>180.0</td>\n",
              "    </tr>\n",
              "    <tr>\n",
              "      <th>1</th>\n",
              "      <td>Cliff Barker</td>\n",
              "      <td>188.0</td>\n",
              "    </tr>\n",
              "    <tr>\n",
              "      <th>2</th>\n",
              "      <td>Leo Barnhorst</td>\n",
              "      <td>193.0</td>\n",
              "    </tr>\n",
              "    <tr>\n",
              "      <th>3</th>\n",
              "      <td>Ed Bartels</td>\n",
              "      <td>196.0</td>\n",
              "    </tr>\n",
              "    <tr>\n",
              "      <th>4</th>\n",
              "      <td>Ralph Beard</td>\n",
              "      <td>178.0</td>\n",
              "    </tr>\n",
              "    <tr>\n",
              "      <th>...</th>\n",
              "      <td>...</td>\n",
              "      <td>...</td>\n",
              "    </tr>\n",
              "    <tr>\n",
              "      <th>3917</th>\n",
              "      <td>Troy Williams</td>\n",
              "      <td>198.0</td>\n",
              "    </tr>\n",
              "    <tr>\n",
              "      <th>3918</th>\n",
              "      <td>Kyle Wiltjer</td>\n",
              "      <td>208.0</td>\n",
              "    </tr>\n",
              "    <tr>\n",
              "      <th>3919</th>\n",
              "      <td>Stephen Zimmerman</td>\n",
              "      <td>213.0</td>\n",
              "    </tr>\n",
              "    <tr>\n",
              "      <th>3920</th>\n",
              "      <td>Paul Zipser</td>\n",
              "      <td>203.0</td>\n",
              "    </tr>\n",
              "    <tr>\n",
              "      <th>3921</th>\n",
              "      <td>Ivica Zubac</td>\n",
              "      <td>216.0</td>\n",
              "    </tr>\n",
              "  </tbody>\n",
              "</table>\n",
              "<p>3922 rows × 2 columns</p>\n",
              "</div>"
            ],
            "text/plain": [
              "                 Player  height\n",
              "0       Curly Armstrong   180.0\n",
              "1          Cliff Barker   188.0\n",
              "2         Leo Barnhorst   193.0\n",
              "3            Ed Bartels   196.0\n",
              "4           Ralph Beard   178.0\n",
              "...                 ...     ...\n",
              "3917      Troy Williams   198.0\n",
              "3918       Kyle Wiltjer   208.0\n",
              "3919  Stephen Zimmerman   213.0\n",
              "3920        Paul Zipser   203.0\n",
              "3921        Ivica Zubac   216.0\n",
              "\n",
              "[3922 rows x 2 columns]"
            ]
          },
          "execution_count": 28,
          "metadata": {
            "tags": []
          },
          "output_type": "execute_result"
        }
      ],
      "source": [
        "nba[['Player','height']]"
      ]
    },
    {
      "cell_type": "markdown",
      "metadata": {
        "id": "iLWL8Rgm_FAA"
      },
      "source": [
        "\n",
        "\n",
        "Para acceder a las filas, se puede usar `loc` o `iloc`."
      ]
    },
    {
      "cell_type": "markdown",
      "metadata": {
        "id": "1fCtglnX_FAC"
      },
      "source": [
        "\n",
        "\n",
        "Permite acceder al contenido de un registro mediante la etiqueta del índice"
      ]
    },
    {
      "cell_type": "code",
      "execution_count": 29,
      "metadata": {
        "colab": {
          "base_uri": "https://localhost:8080/",
          "height": 108
        },
        "id": "4jEYIBUdwRLQ",
        "outputId": "07ded6cd-1fb2-4802-8e7a-9d5dcd7f25b6"
      },
      "outputs": [
        {
          "data": {
            "text/html": [
              "<div>\n",
              "<style scoped>\n",
              "    .dataframe tbody tr th:only-of-type {\n",
              "        vertical-align: middle;\n",
              "    }\n",
              "\n",
              "    .dataframe tbody tr th {\n",
              "        vertical-align: top;\n",
              "    }\n",
              "\n",
              "    .dataframe thead th {\n",
              "        text-align: right;\n",
              "    }\n",
              "</style>\n",
              "<table border=\"1\" class=\"dataframe\">\n",
              "  <thead>\n",
              "    <tr style=\"text-align: right;\">\n",
              "      <th></th>\n",
              "      <th>nombre</th>\n",
              "      <th>score</th>\n",
              "    </tr>\n",
              "  </thead>\n",
              "  <tbody>\n",
              "    <tr>\n",
              "      <th>id1</th>\n",
              "      <td>Pablo</td>\n",
              "      <td>22.2</td>\n",
              "    </tr>\n",
              "    <tr>\n",
              "      <th>id2</th>\n",
              "      <td>Teresa</td>\n",
              "      <td>33.3</td>\n",
              "    </tr>\n",
              "  </tbody>\n",
              "</table>\n",
              "</div>"
            ],
            "text/plain": [
              "     nombre  score\n",
              "id1   Pablo   22.2\n",
              "id2  Teresa   33.3"
            ]
          },
          "execution_count": 29,
          "metadata": {
            "tags": []
          },
          "output_type": "execute_result"
        }
      ],
      "source": [
        "df"
      ]
    },
    {
      "cell_type": "code",
      "execution_count": 30,
      "metadata": {
        "colab": {
          "base_uri": "https://localhost:8080/"
        },
        "id": "f7MYB8Tg_FAD",
        "outputId": "2e8493ce-7bb7-42b6-df75-43ffb15814e7"
      },
      "outputs": [
        {
          "data": {
            "text/plain": [
              "nombre    Teresa\n",
              "score       33.3\n",
              "Name: id2, dtype: object"
            ]
          },
          "execution_count": 30,
          "metadata": {
            "tags": []
          },
          "output_type": "execute_result"
        }
      ],
      "source": [
        "df.loc['id2']"
      ]
    },
    {
      "cell_type": "markdown",
      "metadata": {
        "id": "MXWCJsnB_FAF"
      },
      "source": [
        "\n",
        "\n",
        "Permite acceder al contenido de un registro mediante la posición del índice"
      ]
    },
    {
      "cell_type": "code",
      "execution_count": 31,
      "metadata": {
        "colab": {
          "base_uri": "https://localhost:8080/"
        },
        "id": "LtaPVYts_FAG",
        "outputId": "993481dc-5083-4d32-c463-ffc2cd36fd43"
      },
      "outputs": [
        {
          "data": {
            "text/plain": [
              "nombre    Teresa\n",
              "score       33.3\n",
              "Name: id2, dtype: object"
            ]
          },
          "execution_count": 31,
          "metadata": {
            "tags": []
          },
          "output_type": "execute_result"
        }
      ],
      "source": [
        "df.iloc[1]"
      ]
    },
    {
      "cell_type": "markdown",
      "metadata": {
        "id": "uWyfG8UB_FAH"
      },
      "source": [
        "\n",
        "\n",
        "Podemos acceder a un valor concreto usando el acceso a datos visto anteriormente en Series"
      ]
    },
    {
      "cell_type": "code",
      "execution_count": 32,
      "metadata": {
        "colab": {
          "base_uri": "https://localhost:8080/"
        },
        "id": "ba3KY8E9_FAI",
        "outputId": "4d6b30d6-2cf5-468b-b771-1579c6d5245b"
      },
      "outputs": [
        {
          "data": {
            "text/plain": [
              "33.3"
            ]
          },
          "execution_count": 32,
          "metadata": {
            "tags": []
          },
          "output_type": "execute_result"
        }
      ],
      "source": [
        "df.iloc[1]['score']"
      ]
    },
    {
      "cell_type": "markdown",
      "metadata": {
        "id": "SB3W9xdn_FAJ"
      },
      "source": [
        "\n",
        "\n",
        "---\n",
        "## Métodos en Dataframes\n",
        "\n",
        "\n",
        "Vemos algunos métodos útiles de la clase Dataframe"
      ]
    },
    {
      "cell_type": "code",
      "execution_count": 33,
      "metadata": {
        "id": "urTD1fWA_FAK"
      },
      "outputs": [],
      "source": [
        "data = pd.read_csv('baseball.csv')"
      ]
    },
    {
      "cell_type": "markdown",
      "metadata": {
        "id": "dsKFx_ms_FAL"
      },
      "source": [
        "\n",
        "\n",
        "Nos indica el número de columnas y filas del dataframe"
      ]
    },
    {
      "cell_type": "code",
      "execution_count": 34,
      "metadata": {
        "colab": {
          "base_uri": "https://localhost:8080/"
        },
        "id": "h-e2OfUL_FAM",
        "outputId": "091a7fcb-6be9-4f52-b030-171057ae817b"
      },
      "outputs": [
        {
          "data": {
            "text/plain": [
              "(100, 23)"
            ]
          },
          "execution_count": 34,
          "metadata": {
            "tags": []
          },
          "output_type": "execute_result"
        }
      ],
      "source": [
        "data.shape"
      ]
    },
    {
      "cell_type": "code",
      "execution_count": 35,
      "metadata": {
        "colab": {
          "base_uri": "https://localhost:8080/"
        },
        "id": "Y41lp5WY_FAP",
        "outputId": "3f7c2677-b9e4-42de-e856-320f19cf134d"
      },
      "outputs": [
        {
          "data": {
            "text/plain": [
              "array([[88641, 'womacto01', 2006, ..., 3.0, 0.0, 0.0],\n",
              "       [88643, 'schilcu01', 2006, ..., 0.0, 0.0, 0.0],\n",
              "       [88645, 'myersmi01', 2006, ..., 0.0, 0.0, 0.0],\n",
              "       ...,\n",
              "       [89530, 'ausmubr01', 2007, ..., 4.0, 1.0, 11.0],\n",
              "       [89533, 'aloumo01', 2007, ..., 0.0, 3.0, 13.0],\n",
              "       [89534, 'alomasa02', 2007, ..., 0.0, 0.0, 0.0]], dtype=object)"
            ]
          },
          "execution_count": 35,
          "metadata": {
            "tags": []
          },
          "output_type": "execute_result"
        }
      ],
      "source": [
        "data.values"
      ]
    },
    {
      "cell_type": "markdown",
      "metadata": {
        "id": "ZJdx1qE3_FAQ"
      },
      "source": [
        "\n",
        "\n",
        "Devuelve los n primeros registros (5 por defecto)"
      ]
    },
    {
      "cell_type": "code",
      "execution_count": 36,
      "metadata": {
        "colab": {
          "base_uri": "https://localhost:8080/",
          "height": 198
        },
        "id": "5hmqrO1S_FAS",
        "outputId": "710fd50e-dbdd-4fe1-91bf-9f45fba09e62"
      },
      "outputs": [
        {
          "data": {
            "text/html": [
              "<div>\n",
              "<style scoped>\n",
              "    .dataframe tbody tr th:only-of-type {\n",
              "        vertical-align: middle;\n",
              "    }\n",
              "\n",
              "    .dataframe tbody tr th {\n",
              "        vertical-align: top;\n",
              "    }\n",
              "\n",
              "    .dataframe thead th {\n",
              "        text-align: right;\n",
              "    }\n",
              "</style>\n",
              "<table border=\"1\" class=\"dataframe\">\n",
              "  <thead>\n",
              "    <tr style=\"text-align: right;\">\n",
              "      <th></th>\n",
              "      <th>id</th>\n",
              "      <th>player</th>\n",
              "      <th>year</th>\n",
              "      <th>stint</th>\n",
              "      <th>team</th>\n",
              "      <th>lg</th>\n",
              "      <th>g</th>\n",
              "      <th>ab</th>\n",
              "      <th>r</th>\n",
              "      <th>h</th>\n",
              "      <th>X2b</th>\n",
              "      <th>X3b</th>\n",
              "      <th>hr</th>\n",
              "      <th>rbi</th>\n",
              "      <th>sb</th>\n",
              "      <th>cs</th>\n",
              "      <th>bb</th>\n",
              "      <th>so</th>\n",
              "      <th>ibb</th>\n",
              "      <th>hbp</th>\n",
              "      <th>sh</th>\n",
              "      <th>sf</th>\n",
              "      <th>gidp</th>\n",
              "    </tr>\n",
              "  </thead>\n",
              "  <tbody>\n",
              "    <tr>\n",
              "      <th>0</th>\n",
              "      <td>88641</td>\n",
              "      <td>womacto01</td>\n",
              "      <td>2006</td>\n",
              "      <td>2</td>\n",
              "      <td>CHN</td>\n",
              "      <td>NL</td>\n",
              "      <td>19</td>\n",
              "      <td>50</td>\n",
              "      <td>6</td>\n",
              "      <td>14</td>\n",
              "      <td>1</td>\n",
              "      <td>0</td>\n",
              "      <td>1</td>\n",
              "      <td>2.0</td>\n",
              "      <td>1.0</td>\n",
              "      <td>1.0</td>\n",
              "      <td>4</td>\n",
              "      <td>4.0</td>\n",
              "      <td>0.0</td>\n",
              "      <td>0.0</td>\n",
              "      <td>3.0</td>\n",
              "      <td>0.0</td>\n",
              "      <td>0.0</td>\n",
              "    </tr>\n",
              "    <tr>\n",
              "      <th>1</th>\n",
              "      <td>88643</td>\n",
              "      <td>schilcu01</td>\n",
              "      <td>2006</td>\n",
              "      <td>1</td>\n",
              "      <td>BOS</td>\n",
              "      <td>AL</td>\n",
              "      <td>31</td>\n",
              "      <td>2</td>\n",
              "      <td>0</td>\n",
              "      <td>1</td>\n",
              "      <td>0</td>\n",
              "      <td>0</td>\n",
              "      <td>0</td>\n",
              "      <td>0.0</td>\n",
              "      <td>0.0</td>\n",
              "      <td>0.0</td>\n",
              "      <td>0</td>\n",
              "      <td>1.0</td>\n",
              "      <td>0.0</td>\n",
              "      <td>0.0</td>\n",
              "      <td>0.0</td>\n",
              "      <td>0.0</td>\n",
              "      <td>0.0</td>\n",
              "    </tr>\n",
              "    <tr>\n",
              "      <th>2</th>\n",
              "      <td>88645</td>\n",
              "      <td>myersmi01</td>\n",
              "      <td>2006</td>\n",
              "      <td>1</td>\n",
              "      <td>NYA</td>\n",
              "      <td>AL</td>\n",
              "      <td>62</td>\n",
              "      <td>0</td>\n",
              "      <td>0</td>\n",
              "      <td>0</td>\n",
              "      <td>0</td>\n",
              "      <td>0</td>\n",
              "      <td>0</td>\n",
              "      <td>0.0</td>\n",
              "      <td>0.0</td>\n",
              "      <td>0.0</td>\n",
              "      <td>0</td>\n",
              "      <td>0.0</td>\n",
              "      <td>0.0</td>\n",
              "      <td>0.0</td>\n",
              "      <td>0.0</td>\n",
              "      <td>0.0</td>\n",
              "      <td>0.0</td>\n",
              "    </tr>\n",
              "    <tr>\n",
              "      <th>3</th>\n",
              "      <td>88649</td>\n",
              "      <td>helliri01</td>\n",
              "      <td>2006</td>\n",
              "      <td>1</td>\n",
              "      <td>MIL</td>\n",
              "      <td>NL</td>\n",
              "      <td>20</td>\n",
              "      <td>3</td>\n",
              "      <td>0</td>\n",
              "      <td>0</td>\n",
              "      <td>0</td>\n",
              "      <td>0</td>\n",
              "      <td>0</td>\n",
              "      <td>0.0</td>\n",
              "      <td>0.0</td>\n",
              "      <td>0.0</td>\n",
              "      <td>0</td>\n",
              "      <td>2.0</td>\n",
              "      <td>0.0</td>\n",
              "      <td>0.0</td>\n",
              "      <td>0.0</td>\n",
              "      <td>0.0</td>\n",
              "      <td>0.0</td>\n",
              "    </tr>\n",
              "    <tr>\n",
              "      <th>4</th>\n",
              "      <td>88650</td>\n",
              "      <td>johnsra05</td>\n",
              "      <td>2006</td>\n",
              "      <td>1</td>\n",
              "      <td>NYA</td>\n",
              "      <td>AL</td>\n",
              "      <td>33</td>\n",
              "      <td>6</td>\n",
              "      <td>0</td>\n",
              "      <td>1</td>\n",
              "      <td>0</td>\n",
              "      <td>0</td>\n",
              "      <td>0</td>\n",
              "      <td>0.0</td>\n",
              "      <td>0.0</td>\n",
              "      <td>0.0</td>\n",
              "      <td>0</td>\n",
              "      <td>4.0</td>\n",
              "      <td>0.0</td>\n",
              "      <td>0.0</td>\n",
              "      <td>0.0</td>\n",
              "      <td>0.0</td>\n",
              "      <td>0.0</td>\n",
              "    </tr>\n",
              "  </tbody>\n",
              "</table>\n",
              "</div>"
            ],
            "text/plain": [
              "      id     player  year  stint team  lg  ...   so  ibb  hbp   sh   sf  gidp\n",
              "0  88641  womacto01  2006      2  CHN  NL  ...  4.0  0.0  0.0  3.0  0.0   0.0\n",
              "1  88643  schilcu01  2006      1  BOS  AL  ...  1.0  0.0  0.0  0.0  0.0   0.0\n",
              "2  88645  myersmi01  2006      1  NYA  AL  ...  0.0  0.0  0.0  0.0  0.0   0.0\n",
              "3  88649  helliri01  2006      1  MIL  NL  ...  2.0  0.0  0.0  0.0  0.0   0.0\n",
              "4  88650  johnsra05  2006      1  NYA  AL  ...  4.0  0.0  0.0  0.0  0.0   0.0\n",
              "\n",
              "[5 rows x 23 columns]"
            ]
          },
          "execution_count": 36,
          "metadata": {
            "tags": []
          },
          "output_type": "execute_result"
        }
      ],
      "source": [
        "data.head()"
      ]
    },
    {
      "cell_type": "markdown",
      "metadata": {
        "id": "O7TiGH64_FAT"
      },
      "source": [
        "\n",
        "\n",
        "Devuelve los n primeros registros (5 por defecto)"
      ]
    },
    {
      "cell_type": "code",
      "execution_count": 37,
      "metadata": {
        "colab": {
          "base_uri": "https://localhost:8080/",
          "height": 138
        },
        "id": "D-TVtZ1-_FAT",
        "outputId": "bdf34ffb-f1ba-4c47-85cf-bce15d7445c0"
      },
      "outputs": [
        {
          "data": {
            "text/html": [
              "<div>\n",
              "<style scoped>\n",
              "    .dataframe tbody tr th:only-of-type {\n",
              "        vertical-align: middle;\n",
              "    }\n",
              "\n",
              "    .dataframe tbody tr th {\n",
              "        vertical-align: top;\n",
              "    }\n",
              "\n",
              "    .dataframe thead th {\n",
              "        text-align: right;\n",
              "    }\n",
              "</style>\n",
              "<table border=\"1\" class=\"dataframe\">\n",
              "  <thead>\n",
              "    <tr style=\"text-align: right;\">\n",
              "      <th></th>\n",
              "      <th>id</th>\n",
              "      <th>player</th>\n",
              "      <th>year</th>\n",
              "      <th>stint</th>\n",
              "      <th>team</th>\n",
              "      <th>lg</th>\n",
              "      <th>g</th>\n",
              "      <th>ab</th>\n",
              "      <th>r</th>\n",
              "      <th>h</th>\n",
              "      <th>X2b</th>\n",
              "      <th>X3b</th>\n",
              "      <th>hr</th>\n",
              "      <th>rbi</th>\n",
              "      <th>sb</th>\n",
              "      <th>cs</th>\n",
              "      <th>bb</th>\n",
              "      <th>so</th>\n",
              "      <th>ibb</th>\n",
              "      <th>hbp</th>\n",
              "      <th>sh</th>\n",
              "      <th>sf</th>\n",
              "      <th>gidp</th>\n",
              "    </tr>\n",
              "  </thead>\n",
              "  <tbody>\n",
              "    <tr>\n",
              "      <th>97</th>\n",
              "      <td>89530</td>\n",
              "      <td>ausmubr01</td>\n",
              "      <td>2007</td>\n",
              "      <td>1</td>\n",
              "      <td>HOU</td>\n",
              "      <td>NL</td>\n",
              "      <td>117</td>\n",
              "      <td>349</td>\n",
              "      <td>38</td>\n",
              "      <td>82</td>\n",
              "      <td>16</td>\n",
              "      <td>3</td>\n",
              "      <td>3</td>\n",
              "      <td>25.0</td>\n",
              "      <td>6.0</td>\n",
              "      <td>1.0</td>\n",
              "      <td>37</td>\n",
              "      <td>74.0</td>\n",
              "      <td>3.0</td>\n",
              "      <td>6.0</td>\n",
              "      <td>4.0</td>\n",
              "      <td>1.0</td>\n",
              "      <td>11.0</td>\n",
              "    </tr>\n",
              "    <tr>\n",
              "      <th>98</th>\n",
              "      <td>89533</td>\n",
              "      <td>aloumo01</td>\n",
              "      <td>2007</td>\n",
              "      <td>1</td>\n",
              "      <td>NYN</td>\n",
              "      <td>NL</td>\n",
              "      <td>87</td>\n",
              "      <td>328</td>\n",
              "      <td>51</td>\n",
              "      <td>112</td>\n",
              "      <td>19</td>\n",
              "      <td>1</td>\n",
              "      <td>13</td>\n",
              "      <td>49.0</td>\n",
              "      <td>3.0</td>\n",
              "      <td>0.0</td>\n",
              "      <td>27</td>\n",
              "      <td>30.0</td>\n",
              "      <td>5.0</td>\n",
              "      <td>2.0</td>\n",
              "      <td>0.0</td>\n",
              "      <td>3.0</td>\n",
              "      <td>13.0</td>\n",
              "    </tr>\n",
              "    <tr>\n",
              "      <th>99</th>\n",
              "      <td>89534</td>\n",
              "      <td>alomasa02</td>\n",
              "      <td>2007</td>\n",
              "      <td>1</td>\n",
              "      <td>NYN</td>\n",
              "      <td>NL</td>\n",
              "      <td>8</td>\n",
              "      <td>22</td>\n",
              "      <td>1</td>\n",
              "      <td>3</td>\n",
              "      <td>1</td>\n",
              "      <td>0</td>\n",
              "      <td>0</td>\n",
              "      <td>0.0</td>\n",
              "      <td>0.0</td>\n",
              "      <td>0.0</td>\n",
              "      <td>0</td>\n",
              "      <td>3.0</td>\n",
              "      <td>0.0</td>\n",
              "      <td>0.0</td>\n",
              "      <td>0.0</td>\n",
              "      <td>0.0</td>\n",
              "      <td>0.0</td>\n",
              "    </tr>\n",
              "  </tbody>\n",
              "</table>\n",
              "</div>"
            ],
            "text/plain": [
              "       id     player  year  stint team  lg  ...    so  ibb  hbp   sh   sf  gidp\n",
              "97  89530  ausmubr01  2007      1  HOU  NL  ...  74.0  3.0  6.0  4.0  1.0  11.0\n",
              "98  89533   aloumo01  2007      1  NYN  NL  ...  30.0  5.0  2.0  0.0  3.0  13.0\n",
              "99  89534  alomasa02  2007      1  NYN  NL  ...   3.0  0.0  0.0  0.0  0.0   0.0\n",
              "\n",
              "[3 rows x 23 columns]"
            ]
          },
          "execution_count": 37,
          "metadata": {
            "tags": []
          },
          "output_type": "execute_result"
        }
      ],
      "source": [
        "data.tail(3)"
      ]
    },
    {
      "cell_type": "markdown",
      "metadata": {
        "id": "m-2DF1y0_FAV"
      },
      "source": [
        "\n",
        "\n",
        "Devuelve un resumen estadístico de las variables"
      ]
    },
    {
      "cell_type": "code",
      "execution_count": 38,
      "metadata": {
        "colab": {
          "base_uri": "https://localhost:8080/",
          "height": 398
        },
        "id": "ItU8LQKX_FAW",
        "outputId": "860349b8-e85e-4fd0-fdab-7966bc8ba726"
      },
      "outputs": [
        {
          "data": {
            "text/html": [
              "<div>\n",
              "<style scoped>\n",
              "    .dataframe tbody tr th:only-of-type {\n",
              "        vertical-align: middle;\n",
              "    }\n",
              "\n",
              "    .dataframe tbody tr th {\n",
              "        vertical-align: top;\n",
              "    }\n",
              "\n",
              "    .dataframe thead th {\n",
              "        text-align: right;\n",
              "    }\n",
              "</style>\n",
              "<table border=\"1\" class=\"dataframe\">\n",
              "  <thead>\n",
              "    <tr style=\"text-align: right;\">\n",
              "      <th></th>\n",
              "      <th>id</th>\n",
              "      <th>player</th>\n",
              "      <th>year</th>\n",
              "      <th>stint</th>\n",
              "      <th>team</th>\n",
              "      <th>lg</th>\n",
              "      <th>g</th>\n",
              "      <th>ab</th>\n",
              "      <th>r</th>\n",
              "      <th>h</th>\n",
              "      <th>X2b</th>\n",
              "      <th>X3b</th>\n",
              "      <th>hr</th>\n",
              "      <th>rbi</th>\n",
              "      <th>sb</th>\n",
              "      <th>cs</th>\n",
              "      <th>bb</th>\n",
              "      <th>so</th>\n",
              "      <th>ibb</th>\n",
              "      <th>hbp</th>\n",
              "      <th>sh</th>\n",
              "      <th>sf</th>\n",
              "      <th>gidp</th>\n",
              "    </tr>\n",
              "  </thead>\n",
              "  <tbody>\n",
              "    <tr>\n",
              "      <th>count</th>\n",
              "      <td>100.000000</td>\n",
              "      <td>100</td>\n",
              "      <td>100.00000</td>\n",
              "      <td>100.000000</td>\n",
              "      <td>100</td>\n",
              "      <td>100</td>\n",
              "      <td>100.000000</td>\n",
              "      <td>100.000000</td>\n",
              "      <td>100.00000</td>\n",
              "      <td>100.000000</td>\n",
              "      <td>100.000000</td>\n",
              "      <td>100.000000</td>\n",
              "      <td>100.000000</td>\n",
              "      <td>100.00000</td>\n",
              "      <td>100.000000</td>\n",
              "      <td>100.000000</td>\n",
              "      <td>100.000000</td>\n",
              "      <td>100.000000</td>\n",
              "      <td>100.000000</td>\n",
              "      <td>100.00000</td>\n",
              "      <td>100.000000</td>\n",
              "      <td>100.000000</td>\n",
              "      <td>100.000000</td>\n",
              "    </tr>\n",
              "    <tr>\n",
              "      <th>unique</th>\n",
              "      <td>NaN</td>\n",
              "      <td>82</td>\n",
              "      <td>NaN</td>\n",
              "      <td>NaN</td>\n",
              "      <td>27</td>\n",
              "      <td>2</td>\n",
              "      <td>NaN</td>\n",
              "      <td>NaN</td>\n",
              "      <td>NaN</td>\n",
              "      <td>NaN</td>\n",
              "      <td>NaN</td>\n",
              "      <td>NaN</td>\n",
              "      <td>NaN</td>\n",
              "      <td>NaN</td>\n",
              "      <td>NaN</td>\n",
              "      <td>NaN</td>\n",
              "      <td>NaN</td>\n",
              "      <td>NaN</td>\n",
              "      <td>NaN</td>\n",
              "      <td>NaN</td>\n",
              "      <td>NaN</td>\n",
              "      <td>NaN</td>\n",
              "      <td>NaN</td>\n",
              "    </tr>\n",
              "    <tr>\n",
              "      <th>top</th>\n",
              "      <td>NaN</td>\n",
              "      <td>trachst01</td>\n",
              "      <td>NaN</td>\n",
              "      <td>NaN</td>\n",
              "      <td>NYN</td>\n",
              "      <td>NL</td>\n",
              "      <td>NaN</td>\n",
              "      <td>NaN</td>\n",
              "      <td>NaN</td>\n",
              "      <td>NaN</td>\n",
              "      <td>NaN</td>\n",
              "      <td>NaN</td>\n",
              "      <td>NaN</td>\n",
              "      <td>NaN</td>\n",
              "      <td>NaN</td>\n",
              "      <td>NaN</td>\n",
              "      <td>NaN</td>\n",
              "      <td>NaN</td>\n",
              "      <td>NaN</td>\n",
              "      <td>NaN</td>\n",
              "      <td>NaN</td>\n",
              "      <td>NaN</td>\n",
              "      <td>NaN</td>\n",
              "    </tr>\n",
              "    <tr>\n",
              "      <th>freq</th>\n",
              "      <td>NaN</td>\n",
              "      <td>2</td>\n",
              "      <td>NaN</td>\n",
              "      <td>NaN</td>\n",
              "      <td>12</td>\n",
              "      <td>62</td>\n",
              "      <td>NaN</td>\n",
              "      <td>NaN</td>\n",
              "      <td>NaN</td>\n",
              "      <td>NaN</td>\n",
              "      <td>NaN</td>\n",
              "      <td>NaN</td>\n",
              "      <td>NaN</td>\n",
              "      <td>NaN</td>\n",
              "      <td>NaN</td>\n",
              "      <td>NaN</td>\n",
              "      <td>NaN</td>\n",
              "      <td>NaN</td>\n",
              "      <td>NaN</td>\n",
              "      <td>NaN</td>\n",
              "      <td>NaN</td>\n",
              "      <td>NaN</td>\n",
              "      <td>NaN</td>\n",
              "    </tr>\n",
              "    <tr>\n",
              "      <th>mean</th>\n",
              "      <td>89352.660000</td>\n",
              "      <td>NaN</td>\n",
              "      <td>2006.92000</td>\n",
              "      <td>1.130000</td>\n",
              "      <td>NaN</td>\n",
              "      <td>NaN</td>\n",
              "      <td>52.380000</td>\n",
              "      <td>136.540000</td>\n",
              "      <td>18.69000</td>\n",
              "      <td>35.820000</td>\n",
              "      <td>7.390000</td>\n",
              "      <td>0.550000</td>\n",
              "      <td>4.370000</td>\n",
              "      <td>18.47000</td>\n",
              "      <td>1.380000</td>\n",
              "      <td>0.460000</td>\n",
              "      <td>15.490000</td>\n",
              "      <td>24.080000</td>\n",
              "      <td>1.770000</td>\n",
              "      <td>1.12000</td>\n",
              "      <td>1.380000</td>\n",
              "      <td>1.200000</td>\n",
              "      <td>3.540000</td>\n",
              "    </tr>\n",
              "    <tr>\n",
              "      <th>std</th>\n",
              "      <td>218.910859</td>\n",
              "      <td>NaN</td>\n",
              "      <td>0.27266</td>\n",
              "      <td>0.337998</td>\n",
              "      <td>NaN</td>\n",
              "      <td>NaN</td>\n",
              "      <td>48.031299</td>\n",
              "      <td>181.936853</td>\n",
              "      <td>27.77496</td>\n",
              "      <td>50.221807</td>\n",
              "      <td>11.117277</td>\n",
              "      <td>1.445124</td>\n",
              "      <td>7.975537</td>\n",
              "      <td>28.34793</td>\n",
              "      <td>3.694878</td>\n",
              "      <td>1.067613</td>\n",
              "      <td>25.812649</td>\n",
              "      <td>32.804496</td>\n",
              "      <td>5.042957</td>\n",
              "      <td>2.23055</td>\n",
              "      <td>2.919042</td>\n",
              "      <td>2.035046</td>\n",
              "      <td>5.201826</td>\n",
              "    </tr>\n",
              "    <tr>\n",
              "      <th>min</th>\n",
              "      <td>88641.000000</td>\n",
              "      <td>NaN</td>\n",
              "      <td>2006.00000</td>\n",
              "      <td>1.000000</td>\n",
              "      <td>NaN</td>\n",
              "      <td>NaN</td>\n",
              "      <td>1.000000</td>\n",
              "      <td>0.000000</td>\n",
              "      <td>0.00000</td>\n",
              "      <td>0.000000</td>\n",
              "      <td>0.000000</td>\n",
              "      <td>0.000000</td>\n",
              "      <td>0.000000</td>\n",
              "      <td>0.00000</td>\n",
              "      <td>0.000000</td>\n",
              "      <td>0.000000</td>\n",
              "      <td>0.000000</td>\n",
              "      <td>0.000000</td>\n",
              "      <td>0.000000</td>\n",
              "      <td>0.00000</td>\n",
              "      <td>0.000000</td>\n",
              "      <td>0.000000</td>\n",
              "      <td>0.000000</td>\n",
              "    </tr>\n",
              "    <tr>\n",
              "      <th>25%</th>\n",
              "      <td>89353.500000</td>\n",
              "      <td>NaN</td>\n",
              "      <td>2007.00000</td>\n",
              "      <td>1.000000</td>\n",
              "      <td>NaN</td>\n",
              "      <td>NaN</td>\n",
              "      <td>9.500000</td>\n",
              "      <td>2.000000</td>\n",
              "      <td>0.00000</td>\n",
              "      <td>0.000000</td>\n",
              "      <td>0.000000</td>\n",
              "      <td>0.000000</td>\n",
              "      <td>0.000000</td>\n",
              "      <td>0.00000</td>\n",
              "      <td>0.000000</td>\n",
              "      <td>0.000000</td>\n",
              "      <td>0.000000</td>\n",
              "      <td>1.000000</td>\n",
              "      <td>0.000000</td>\n",
              "      <td>0.00000</td>\n",
              "      <td>0.000000</td>\n",
              "      <td>0.000000</td>\n",
              "      <td>0.000000</td>\n",
              "    </tr>\n",
              "    <tr>\n",
              "      <th>50%</th>\n",
              "      <td>89399.000000</td>\n",
              "      <td>NaN</td>\n",
              "      <td>2007.00000</td>\n",
              "      <td>1.000000</td>\n",
              "      <td>NaN</td>\n",
              "      <td>NaN</td>\n",
              "      <td>33.000000</td>\n",
              "      <td>40.500000</td>\n",
              "      <td>2.00000</td>\n",
              "      <td>8.000000</td>\n",
              "      <td>1.000000</td>\n",
              "      <td>0.000000</td>\n",
              "      <td>0.000000</td>\n",
              "      <td>2.00000</td>\n",
              "      <td>0.000000</td>\n",
              "      <td>0.000000</td>\n",
              "      <td>1.000000</td>\n",
              "      <td>7.000000</td>\n",
              "      <td>0.000000</td>\n",
              "      <td>0.00000</td>\n",
              "      <td>0.000000</td>\n",
              "      <td>0.000000</td>\n",
              "      <td>1.000000</td>\n",
              "    </tr>\n",
              "    <tr>\n",
              "      <th>75%</th>\n",
              "      <td>89465.250000</td>\n",
              "      <td>NaN</td>\n",
              "      <td>2007.00000</td>\n",
              "      <td>1.000000</td>\n",
              "      <td>NaN</td>\n",
              "      <td>NaN</td>\n",
              "      <td>83.250000</td>\n",
              "      <td>243.750000</td>\n",
              "      <td>33.25000</td>\n",
              "      <td>62.750000</td>\n",
              "      <td>11.750000</td>\n",
              "      <td>1.000000</td>\n",
              "      <td>6.000000</td>\n",
              "      <td>27.00000</td>\n",
              "      <td>1.000000</td>\n",
              "      <td>0.000000</td>\n",
              "      <td>19.250000</td>\n",
              "      <td>37.250000</td>\n",
              "      <td>1.250000</td>\n",
              "      <td>1.00000</td>\n",
              "      <td>1.000000</td>\n",
              "      <td>2.000000</td>\n",
              "      <td>6.000000</td>\n",
              "    </tr>\n",
              "    <tr>\n",
              "      <th>max</th>\n",
              "      <td>89534.000000</td>\n",
              "      <td>NaN</td>\n",
              "      <td>2007.00000</td>\n",
              "      <td>2.000000</td>\n",
              "      <td>NaN</td>\n",
              "      <td>NaN</td>\n",
              "      <td>155.000000</td>\n",
              "      <td>586.000000</td>\n",
              "      <td>107.00000</td>\n",
              "      <td>159.000000</td>\n",
              "      <td>52.000000</td>\n",
              "      <td>12.000000</td>\n",
              "      <td>35.000000</td>\n",
              "      <td>96.00000</td>\n",
              "      <td>22.000000</td>\n",
              "      <td>6.000000</td>\n",
              "      <td>132.000000</td>\n",
              "      <td>134.000000</td>\n",
              "      <td>43.000000</td>\n",
              "      <td>11.00000</td>\n",
              "      <td>14.000000</td>\n",
              "      <td>9.000000</td>\n",
              "      <td>21.000000</td>\n",
              "    </tr>\n",
              "  </tbody>\n",
              "</table>\n",
              "</div>"
            ],
            "text/plain": [
              "                  id     player        year  ...          sh          sf        gidp\n",
              "count     100.000000        100   100.00000  ...  100.000000  100.000000  100.000000\n",
              "unique           NaN         82         NaN  ...         NaN         NaN         NaN\n",
              "top              NaN  trachst01         NaN  ...         NaN         NaN         NaN\n",
              "freq             NaN          2         NaN  ...         NaN         NaN         NaN\n",
              "mean    89352.660000        NaN  2006.92000  ...    1.380000    1.200000    3.540000\n",
              "std       218.910859        NaN     0.27266  ...    2.919042    2.035046    5.201826\n",
              "min     88641.000000        NaN  2006.00000  ...    0.000000    0.000000    0.000000\n",
              "25%     89353.500000        NaN  2007.00000  ...    0.000000    0.000000    0.000000\n",
              "50%     89399.000000        NaN  2007.00000  ...    0.000000    0.000000    1.000000\n",
              "75%     89465.250000        NaN  2007.00000  ...    1.000000    2.000000    6.000000\n",
              "max     89534.000000        NaN  2007.00000  ...   14.000000    9.000000   21.000000\n",
              "\n",
              "[11 rows x 23 columns]"
            ]
          },
          "execution_count": 38,
          "metadata": {
            "tags": []
          },
          "output_type": "execute_result"
        }
      ],
      "source": [
        "data.describe(include='all')"
      ]
    },
    {
      "cell_type": "markdown",
      "metadata": {
        "id": "7rcuktrd_FAY"
      },
      "source": [
        "\n",
        "\n",
        "Devuelve un resumen de la estructura"
      ]
    },
    {
      "cell_type": "code",
      "execution_count": 39,
      "metadata": {
        "colab": {
          "base_uri": "https://localhost:8080/"
        },
        "id": "4hH_xdmw_FAZ",
        "outputId": "36f9af0c-b597-4f09-85ea-0828d7707938"
      },
      "outputs": [
        {
          "data": {
            "text/plain": [
              "id          int64\n",
              "player     object\n",
              "year        int64\n",
              "stint       int64\n",
              "team       object\n",
              "lg         object\n",
              "g           int64\n",
              "ab          int64\n",
              "r           int64\n",
              "h           int64\n",
              "X2b         int64\n",
              "X3b         int64\n",
              "hr          int64\n",
              "rbi       float64\n",
              "sb        float64\n",
              "cs        float64\n",
              "bb          int64\n",
              "so        float64\n",
              "ibb       float64\n",
              "hbp       float64\n",
              "sh        float64\n",
              "sf        float64\n",
              "gidp      float64\n",
              "dtype: object"
            ]
          },
          "execution_count": 39,
          "metadata": {
            "tags": []
          },
          "output_type": "execute_result"
        }
      ],
      "source": [
        "data.dtypes"
      ]
    },
    {
      "cell_type": "markdown",
      "metadata": {
        "id": "oH1BTbFz_FAb"
      },
      "source": [
        "Devuelve una lista con las etiquetas de las columnas y de las filas"
      ]
    },
    {
      "cell_type": "code",
      "execution_count": 40,
      "metadata": {
        "colab": {
          "base_uri": "https://localhost:8080/"
        },
        "id": "kdxMQED1_FAb",
        "outputId": "e352fecb-b0f0-4bee-ac1b-2c65cc4b3882"
      },
      "outputs": [
        {
          "data": {
            "text/plain": [
              "[RangeIndex(start=0, stop=100, step=1),\n",
              " Index(['id', 'player', 'year', 'stint', 'team', 'lg', 'g', 'ab', 'r', 'h',\n",
              "        'X2b', 'X3b', 'hr', 'rbi', 'sb', 'cs', 'bb', 'so', 'ibb', 'hbp', 'sh',\n",
              "        'sf', 'gidp'],\n",
              "       dtype='object')]"
            ]
          },
          "execution_count": 40,
          "metadata": {
            "tags": []
          },
          "output_type": "execute_result"
        }
      ],
      "source": [
        "data.axes"
      ]
    },
    {
      "cell_type": "markdown",
      "metadata": {
        "id": "0EgRB8Wd_FAe"
      },
      "source": [
        "\n",
        "\n",
        "Devuelve el número de elementos únicos por campo"
      ]
    },
    {
      "cell_type": "code",
      "execution_count": 41,
      "metadata": {
        "colab": {
          "base_uri": "https://localhost:8080/"
        },
        "id": "32eMpTNL_FAf",
        "outputId": "3bda5093-7b52-44ed-9900-c62e6b7379c2"
      },
      "outputs": [
        {
          "data": {
            "text/plain": [
              "id        100\n",
              "player     82\n",
              "year        2\n",
              "stint       2\n",
              "team       27\n",
              "lg          2\n",
              "g          60\n",
              "ab         63\n",
              "r          38\n",
              "h          46\n",
              "X2b        28\n",
              "X3b         5\n",
              "hr         22\n",
              "rbi        43\n",
              "sb         12\n",
              "cs          7\n",
              "bb         40\n",
              "so         47\n",
              "ibb        13\n",
              "hbp        10\n",
              "sh         14\n",
              "sf          9\n",
              "gidp       17\n",
              "dtype: int64"
            ]
          },
          "execution_count": 41,
          "metadata": {
            "tags": []
          },
          "output_type": "execute_result"
        }
      ],
      "source": [
        "data.nunique()"
      ]
    },
    {
      "cell_type": "markdown",
      "metadata": {
        "id": "m6hSU9G2_FAg"
      },
      "source": [
        "\n",
        "\n",
        "# Ejercicios\n",
        "\n",
        "Considere el siguiente diccionario `data` y lista de `index`"
      ]
    },
    {
      "cell_type": "code",
      "execution_count": 42,
      "metadata": {
        "id": "Xajzv6Od_FAh"
      },
      "outputs": [],
      "source": [
        "data = {'animal': ['cat', 'cat', 'snake', 'dog', 'dog', 'cat', 'snake', 'cat', 'dog', 'dog'],\n",
        "        'age': [2.5, 3, 0.5, np.nan, 5, 2, 4.5, np.nan, 7, 3],\n",
        "        'visits': [1, 3, 2, 3, 2, 3, 1, 1, 2, 1],\n",
        "        'priority': ['yes', 'yes', 'no', 'yes', 'no', 'no', 'no', 'yes', 'no', 'no']}\n",
        "\n",
        "labels = ['a', 'b', 'c', 'd', 'e', 'f', 'g', 'h', 'i', 'j']"
      ]
    },
    {
      "cell_type": "markdown",
      "metadata": {
        "id": "C6rUtL8b_FAj"
      },
      "source": [
        "\n",
        "\n",
        "- a. Crea un DataFrame a partir del diccionario y los índices.\n",
        "- b. Selecciona las columnas `animal`y `age`.\n",
        "- c. Indique cuantos tipos distintos de animales hay.\n",
        "- d. Indique cuantos animales hay de cada tipo.\n",
        "- e. Muestre un resumen estadístico de todas las variables."
      ]
    },
    {
      "cell_type": "markdown",
      "metadata": {
        "id": "E7b3KIYB_FAj"
      },
      "source": [
        "\n",
        "\n",
        "##### Solución Ejercicio 1"
      ]
    },
    {
      "cell_type": "markdown",
      "metadata": {
        "id": "KQhe9Qla_FAj"
      },
      "source": [
        "\n",
        "\n",
        "Crea un DataFrame a partir del diccionario y los índices."
      ]
    },
    {
      "cell_type": "code",
      "execution_count": null,
      "metadata": {
        "id": "n1iYq9On_FAk"
      },
      "outputs": [],
      "source": [
        "# Respuesta aqui"
      ]
    },
    {
      "cell_type": "markdown",
      "metadata": {
        "id": "a5OhVLT8_FAl"
      },
      "source": [
        "\n",
        "\n",
        "Selecciona las columnas `animal`y `age`.\n"
      ]
    },
    {
      "cell_type": "code",
      "execution_count": null,
      "metadata": {
        "id": "5peplPHZ_FAl"
      },
      "outputs": [],
      "source": [
        "# Respuesta aqui"
      ]
    },
    {
      "cell_type": "markdown",
      "metadata": {
        "id": "moXN5JHF_FAn"
      },
      "source": [
        "\n",
        "\n",
        "Indique el número de animales distintos.\n"
      ]
    },
    {
      "cell_type": "code",
      "execution_count": null,
      "metadata": {
        "id": "iE4bRzr6_FAn"
      },
      "outputs": [],
      "source": [
        "# Respuesta aqui"
      ]
    },
    {
      "cell_type": "markdown",
      "metadata": {
        "id": "_uSSx3qm_FAo"
      },
      "source": [
        "\n",
        "\n",
        "Indique cuantos animales hay de cada tipo.\n"
      ]
    },
    {
      "cell_type": "code",
      "execution_count": null,
      "metadata": {
        "id": "v3T9OZ2q_FAq"
      },
      "outputs": [],
      "source": [
        "# Respuesta aqui"
      ]
    },
    {
      "cell_type": "markdown",
      "metadata": {
        "id": "8GIUSobL_FAr"
      },
      "source": [
        "\n",
        "\n",
        "Muestre un resumen estadístico de todas las variables.\n"
      ]
    },
    {
      "cell_type": "code",
      "execution_count": null,
      "metadata": {
        "id": "BrqbIu2e_FAr"
      },
      "outputs": [],
      "source": [
        "# Respuesta aqui"
      ]
    }
  ],
  "metadata": {
    "colab": {
      "collapsed_sections": [],
      "name": "Sesión06_FDP_OG7_Pandas.ipynb",
      "provenance": [],
      "toc_visible": true
    },
    "kernelspec": {
      "display_name": "Python 3",
      "name": "python3"
    }
  },
  "nbformat": 4,
  "nbformat_minor": 0
}
