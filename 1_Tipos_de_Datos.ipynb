{
  "cells": [
    {
      "cell_type": "markdown",
      "metadata": {
        "colab_type": "text",
        "id": "view-in-github"
      },
      "source": [
        "<a href=\"https://colab.research.google.com/github/juansalinasponce/course_python/blob/main/Session01_introduction_to_python.ipynb\" target=\"_parent\"><img src=\"https://colab.research.google.com/assets/colab-badge.svg\" alt=\"Open In Colab\"/></a>"
      ]
    },
    {
      "cell_type": "markdown",
      "metadata": {
        "id": "UcUDzWLGecP1"
      },
      "source": [
        "# **Sesión 01 - Introducción a python**\n",
        "\n",
        "En esta sección revisaremos cuáles son las estructuras de datos y tipos básicos con los que cuenta este lenguaje. Paso previo, revisaremos algunos conceptos importantes indispensables para la comprensión del lenguaje."
      ]
    },
    {
      "cell_type": "markdown",
      "metadata": {
        "id": "Z6jsSZpiem4T"
      },
      "source": [
        "##  **CONCEPTOS BÁSICOS**\n",
        "\n",
        "\n",
        "**Objeto**\n",
        "\n",
        "Componente que se aloja en la memoria y que tiene asociados una serie de vectores y operaciones que pueden ser realizadas con él. Un objeto en Python puede ser una cadena de texto, un número real, un diccionario o un objeto propiamente dicho, según el paradigma OOP, creado a partir de una clase determinada. En otros lenguajes de programación se emplea el término estructura de datos para referirse al objeto. Podemos considerar ambos términos como equivalentes.\n",
        "\n",
        "\n",
        "**Tipado dinámico**\n",
        "\n",
        "Python al declarar una variable no se puede indicar su tipo. En la ejecución, el tipo será asignado a la variable, empleando una técnica conocida como tipado dinámico.\n",
        "\n",
        "**¿Cómo diferencia el intérprete entre diferentes tipos y estructuras de datos?**\n",
        "\n",
        "La respuesta se encuentra en el funcionamiento interno que realiza el intérprete de la memoria. Cuando se asigna a una variable un valor, el intérprete, en tiempo de ejecución, realiza un proceso que consiste en varios pasos:\n",
        "\n",
        "\n",
        "\n",
        "1.   Se crea un objeto en la memoria con el valor asignado.\n",
        "2.   Se comprueba de que exista la variable, si no es así se crea una referencia que enlaza la nueva variable con el objeto.\n",
        "3.   Si por el contrario ya existe la variable, entonces, se cambia la referencia hacia el objeto creado.\n",
        "\n",
        "**Tanto las variables como los objetos se almacenan en diferentes zonas de la memoria.**\n",
        "\n",
        "Gracias al tipado dinámico podemos, en el mismo bloque de código, asignar diferentes tipos de datos a la misma variable, siendo el intérprete en tiempo de ejecución el que se encargará de crear los objetos y referencias que sean necesarios.\n",
        "\n",
        "Para ejemplificar el proceso ingresaremos el siguiente código:"
      ]
    },
    {
      "cell_type": "markdown",
      "metadata": {
        "id": "ao6Rl_80XFwE"
      },
      "source": []
    },
    {
      "cell_type": "markdown",
      "metadata": {
        "id": "taqYyLTcf_aU"
      },
      "source": [
        "1. Crear variables"
      ]
    },
    {
      "cell_type": "code",
      "execution_count": 7,
      "metadata": {
        "id": "zeAt28SLeiIL"
      },
      "outputs": [],
      "source": [
        "x = 9\n",
        "y = x"
      ]
    },
    {
      "cell_type": "markdown",
      "metadata": {
        "id": "3vh56e17gImk"
      },
      "source": [
        "2.   Consultar variable"
      ]
    },
    {
      "cell_type": "markdown",
      "metadata": {
        "id": "o-lz03xoTcjR"
      },
      "source": []
    },
    {
      "cell_type": "code",
      "execution_count": 8,
      "metadata": {
        "colab": {
          "base_uri": "https://localhost:8080/"
        },
        "id": "4lIk7avLgOli",
        "outputId": "b678a3ff-f313-4fe5-f344-5496592c282b"
      },
      "outputs": [
        {
          "data": {
            "text/plain": [
              "8"
            ]
          },
          "execution_count": 8,
          "metadata": {
            "tags": []
          },
          "output_type": "execute_result"
        }
      ],
      "source": [
        "x"
      ]
    },
    {
      "cell_type": "code",
      "execution_count": 9,
      "metadata": {
        "colab": {
          "base_uri": "https://localhost:8080/"
        },
        "id": "YDlTy8y2TpdY",
        "outputId": "a3622219-fe46-47a0-cbe7-aa93fd0adcc3"
      },
      "outputs": [
        {
          "data": {
            "text/plain": [
              "8"
            ]
          },
          "execution_count": 9,
          "metadata": {
            "tags": []
          },
          "output_type": "execute_result"
        }
      ],
      "source": [
        "y"
      ]
    },
    {
      "cell_type": "markdown",
      "metadata": {
        "id": "cggENEB1gsl6"
      },
      "source": [
        "3. Mostrar en Pantalla"
      ]
    },
    {
      "cell_type": "code",
      "execution_count": 14,
      "metadata": {
        "colab": {
          "base_uri": "https://localhost:8080/"
        },
        "id": "XEHPghGDgwsP",
        "outputId": "835b0486-e63b-4f11-e5c6-8c06476caace"
      },
      "outputs": [
        {
          "name": "stdout",
          "output_type": "stream",
          "text": [
            "La variable es: 8\n"
          ]
        }
      ],
      "source": [
        "print(\"La variable es:\", x)"
      ]
    },
    {
      "cell_type": "markdown",
      "metadata": {
        "id": "oB2OvM3KiXwZ"
      },
      "source": [
        "# **TIPOS DE DATOS**\n",
        "\n",
        "*   booleano\n",
        "*   Numéricos\n",
        "*   Cadenas(string)\n",
        "*   Listas\n",
        "*   Tuplas\n",
        "*   Diccionarios\n",
        "*   DataFrames\n"
      ]
    },
    {
      "cell_type": "markdown",
      "metadata": {
        "id": "v6GYdva5RPc0"
      },
      "source": [
        "###booleano\n",
        "\n",
        "Las variables booleanas solo pueden tener los valores True o False."
      ]
    },
    {
      "cell_type": "code",
      "execution_count": 2,
      "metadata": {
        "id": "aBhPCfJKRWDX"
      },
      "outputs": [],
      "source": [
        "b1 = True\n",
        "b2 = True\n",
        "b3 = False"
      ]
    },
    {
      "cell_type": "code",
      "execution_count": 12,
      "metadata": {
        "colab": {
          "base_uri": "https://localhost:8080/"
        },
        "id": "cOdLNvdHRfrJ",
        "outputId": "d9d33254-6459-4926-9828-5bb6470b14d7"
      },
      "outputs": [
        {
          "data": {
            "text/plain": [
              "bool"
            ]
          },
          "execution_count": 12,
          "metadata": {
            "tags": []
          },
          "output_type": "execute_result"
        }
      ],
      "source": [
        "type(b1)"
      ]
    },
    {
      "cell_type": "markdown",
      "metadata": {
        "id": "bYDs4_RKVQZX"
      },
      "source": [
        "###Numéricos\n",
        "Estos tipos de datos se crean mediante literales numéricos y se devuelven como resultados por operadores aritméticos y funciones aritméticas integradas. "
      ]
    },
    {
      "cell_type": "code",
      "execution_count": null,
      "metadata": {
        "id": "iscO0GfSWBCv"
      },
      "outputs": [],
      "source": [
        "num_entero = 8"
      ]
    },
    {
      "cell_type": "code",
      "execution_count": null,
      "metadata": {
        "id": "4aJV_J8-WESK"
      },
      "outputs": [],
      "source": [
        "#en el contexto de los números enteros\n",
        "num_negativo = -100"
      ]
    },
    {
      "cell_type": "code",
      "execution_count": null,
      "metadata": {
        "id": "8xwQCXstWF0p"
      },
      "outputs": [],
      "source": [
        "num_real = 4.5"
      ]
    },
    {
      "cell_type": "code",
      "execution_count": null,
      "metadata": {
        "id": "EY_bW_IqWGf9"
      },
      "outputs": [],
      "source": [
        "#otra manera de expresar un número real es:\n",
        "num_real = 0.5e-7"
      ]
    },
    {
      "cell_type": "code",
      "execution_count": null,
      "metadata": {
        "id": "gcmb9Lf1WHWn"
      },
      "outputs": [],
      "source": [
        "#números formados por una parte real y otra imaginaria\n",
        "num_complejo = 3.2 + 7j"
      ]
    },
    {
      "cell_type": "markdown",
      "metadata": {
        "id": "Uca7pu4tWUYU"
      },
      "source": [
        "####Sistemas de representación\n",
        "\n",
        "**Python** puede representar los números enteros en los sistemas decimal, octal, binario y hexadecimal. \n",
        "\n",
        "Para la representación decimal no es necesario indicar nada más que el número en cuestión. Sin embargo, para el resto de sistemas es necesario que el número sea precedido por uno o dos caracteres concretos."
      ]
    },
    {
      "cell_type": "code",
      "execution_count": null,
      "metadata": {
        "id": "rIEJcbGLWobj"
      },
      "outputs": [],
      "source": [
        "#el número 7 en binario se representa de la siguiente forma:\n",
        "num_binario = 0b111"
      ]
    },
    {
      "cell_type": "code",
      "execution_count": null,
      "metadata": {
        "id": "tIhjG3p5WpHK"
      },
      "outputs": [],
      "source": [
        "num_binario"
      ]
    },
    {
      "cell_type": "code",
      "execution_count": null,
      "metadata": {
        "id": "bYD2TrGxWqRK"
      },
      "outputs": [],
      "source": [
        "#el número 8 en octak se representa de la siguiente forma:\n",
        "num_octal = 0o10"
      ]
    },
    {
      "cell_type": "code",
      "execution_count": null,
      "metadata": {
        "id": "b5Mlv_K2WuVD"
      },
      "outputs": [],
      "source": [
        "num_octal"
      ]
    },
    {
      "cell_type": "code",
      "execution_count": null,
      "metadata": {
        "id": "5PC087XOWv2b"
      },
      "outputs": [],
      "source": [
        "#el número 255 en el sistema hexadecimal se representa de la siguiente forma:\n",
        "num_hex = 0xff"
      ]
    },
    {
      "cell_type": "code",
      "execution_count": null,
      "metadata": {
        "id": "IaCIcTz4Ww5D"
      },
      "outputs": [],
      "source": [
        "num_hex"
      ]
    },
    {
      "cell_type": "markdown",
      "metadata": {
        "id": "ayJ7fibgXHmD"
      },
      "source": [
        "###Cadenas de texto\n",
        "\n",
        "Las cadenas de texto (strings) son otro de los tipos de datos más utilizados en programación. Una Cadena de texto es un conjunto inmutable y ordenado de caracteres. Para su representación y definición se pueden utilizar tanto comillas dobles (\"), como simples (')."
      ]
    },
    {
      "cell_type": "code",
      "execution_count": 15,
      "metadata": {
        "id": "AT_XN5DiXRxz"
      },
      "outputs": [],
      "source": [
        "cadena = \"esto es una cadena de texto\""
      ]
    },
    {
      "cell_type": "code",
      "execution_count": 16,
      "metadata": {
        "id": "jcxCP2l2XSsC"
      },
      "outputs": [],
      "source": [
        "cadena2 = \"\"\"Esta cadena de texto\n",
        "tiene más de una línea. En concreto, cuenta\n",
        "con tres líneas diferentes\"\"\""
      ]
    },
    {
      "cell_type": "code",
      "execution_count": 18,
      "metadata": {
        "colab": {
          "base_uri": "https://localhost:8080/"
        },
        "id": "zuOZYoOWXXFn",
        "outputId": "8419c0f6-d840-403e-9559-7ec2766512a9"
      },
      "outputs": [
        {
          "data": {
            "text/plain": [
              "str"
            ]
          },
          "execution_count": 18,
          "metadata": {
            "tags": []
          },
          "output_type": "execute_result"
        }
      ],
      "source": [
        "type(cadena2)"
      ]
    },
    {
      "cell_type": "markdown",
      "metadata": {
        "id": "5V4APJ04YCLN"
      },
      "source": [
        "####Tipos\n",
        "\n",
        "Por defecto todas las cadenas de texto son Unicode. Así, cualquier string declarado en Python será automáticamente de tipo Unicode. Los tipos son:\n",
        "\n",
        "1. Unicode\n",
        "2. Byte\n",
        "3. Bytearray."
      ]
    },
    {
      "cell_type": "markdown",
      "metadata": {
        "id": "jq73OTLzYMYg"
      },
      "source": [
        "#####Byte\n",
        "El tipo byte solo admite caracteres en codificación ASCII y, al igual que los de tipo Unicode, son inmutables.\n",
        "\n",
        "Para declarar un string de tipo byte, basta con anteponer la letra b antes de las comillas:"
      ]
    },
    {
      "cell_type": "code",
      "execution_count": 19,
      "metadata": {
        "id": "Jx8msDXGYb9k"
      },
      "outputs": [],
      "source": [
        "cad = b\"cadena de tipo byte\""
      ]
    },
    {
      "cell_type": "code",
      "execution_count": 20,
      "metadata": {
        "colab": {
          "base_uri": "https://localhost:8080/"
        },
        "id": "CndYL1jwYeic",
        "outputId": "69d30eaa-a657-4791-811c-2732a6ff1978"
      },
      "outputs": [
        {
          "data": {
            "text/plain": [
              "bytes"
            ]
          },
          "execution_count": 20,
          "metadata": {
            "tags": []
          },
          "output_type": "execute_result"
        }
      ],
      "source": [
        "type(cad)"
      ]
    },
    {
      "cell_type": "markdown",
      "metadata": {
        "id": "VR71nQZBYkb0"
      },
      "source": [
        "#####Bytearray\n",
        "\n",
        "El tipo **bytearray** es una versión mutable del tipo byte.\n",
        "La declaración de un tipo bytearray debe hacerse utilizando la función integrada que nos ofrece el intérprete. Además, es imprescindible indicar el tipo de codificación que deseamos emplear. El siguiente ejemplo utiliza la codificación de los caracteres latin1 para crear un string de este tipo:"
      ]
    },
    {
      "cell_type": "code",
      "execution_count": 21,
      "metadata": {
        "colab": {
          "base_uri": "https://localhost:8080/"
        },
        "id": "Pvrq6jA2Y8yx",
        "outputId": "2bdf42eb-0eeb-4a73-c901-025efe9f541e"
      },
      "outputs": [
        {
          "name": "stdout",
          "output_type": "stream",
          "text": [
            "bytearray(b'Espa\\xf1a')\n"
          ]
        }
      ],
      "source": [
        "lat = bytearray(\"España\", \"latin1\")\n",
        "print(lat)"
      ]
    },
    {
      "cell_type": "code",
      "execution_count": 22,
      "metadata": {
        "colab": {
          "base_uri": "https://localhost:8080/"
        },
        "id": "i5BFaZLiY98P",
        "outputId": "0cffad6e-8bc5-4bb6-fe6e-9c86ee584341"
      },
      "outputs": [
        {
          "name": "stdout",
          "output_type": "stream",
          "text": [
            "bytearray(b'Espa\\xc3\\xb1a')\n"
          ]
        }
      ],
      "source": [
        "str = \"España\"\n",
        "array1 = bytearray(str, 'utf-8') \n",
        "print(array1)"
      ]
    },
    {
      "cell_type": "code",
      "execution_count": 23,
      "metadata": {
        "colab": {
          "base_uri": "https://localhost:8080/"
        },
        "id": "equSkwQjZBfU",
        "outputId": "cdf38de8-b1cf-4c11-bc9f-f34295be6cd4"
      },
      "outputs": [
        {
          "data": {
            "text/plain": [
              "bytearray(b'\\xff\\xfeE\\x00s\\x00p\\x00a\\x00\\xf1\\x00a\\x00')"
            ]
          },
          "execution_count": 23,
          "metadata": {
            "tags": []
          },
          "output_type": "execute_result"
        }
      ],
      "source": [
        "bytearray(\"España\", \"utf16\")"
      ]
    },
    {
      "cell_type": "markdown",
      "metadata": {
        "id": "obKS2poUZKCP"
      },
      "source": [
        "encode(): transforma un tipo str en tipo byte"
      ]
    },
    {
      "cell_type": "code",
      "execution_count": 24,
      "metadata": {
        "colab": {
          "base_uri": "https://localhost:8080/"
        },
        "id": "PKCJRpUuZMLc",
        "outputId": "68299011-36f1-42dd-b2ec-8181601c1946"
      },
      "outputs": [
        {
          "data": {
            "text/plain": [
              "b'es de tipo str'"
            ]
          },
          "execution_count": 24,
          "metadata": {
            "tags": []
          },
          "output_type": "execute_result"
        }
      ],
      "source": [
        "cad = \"es de tipo str\"\n",
        "cad.encode()"
      ]
    },
    {
      "cell_type": "markdown",
      "metadata": {
        "id": "CuueZX8EZQ_j"
      },
      "source": [
        "decode(): transforma un tipo byte en tipo str"
      ]
    },
    {
      "cell_type": "code",
      "execution_count": null,
      "metadata": {
        "id": "XR7ONrRZZPX-"
      },
      "outputs": [],
      "source": [
        "cad = b\"es de tipo byte\"\n",
        "cad.decode()"
      ]
    },
    {
      "cell_type": "markdown",
      "metadata": {
        "id": "II0z0D8gZVIw"
      },
      "source": [
        "###Listas\n",
        "\n",
        "Las listas contienen valores de cualquier tipo simple (numérico o no numérico), y podrían ser estructuras compuestas (lista de listas). Si usamos como referencia a una hoja de calculo con datos sobre individuos, una lista podria ser una fila que tiene los datos de los individuos.\n"
      ]
    },
    {
      "cell_type": "code",
      "execution_count": 26,
      "metadata": {
        "id": "gpY_VwqyZkHq"
      },
      "outputs": [],
      "source": [
        "Estudiante=[\"Manuel Ponte\",23,\"False\"]"
      ]
    },
    {
      "cell_type": "markdown",
      "metadata": {
        "id": "8RUdU37fZmBm"
      },
      "source": [
        "El object ‘Estudiante’ almacena temporalmente la lista en la computadora. Los nombre pueden contener letras del alfabeto y números (y algunos caracteres de puntuación), pero no debe comenzar con un número.\n",
        "\n",
        "En el código anterior, sólo se ha pedido crear la lista. Python lo ejecuta y nada más, no tienes que esperar ningún mensaje ni resultado. Si quieres ver lo que has creado, escribelo de manera explicita, así:"
      ]
    },
    {
      "cell_type": "code",
      "execution_count": 27,
      "metadata": {
        "colab": {
          "base_uri": "https://localhost:8080/"
        },
        "id": "T0XFzp2dZnHv",
        "outputId": "73240fd6-e7bc-4554-d93f-b81473a253fa"
      },
      "outputs": [
        {
          "data": {
            "text/plain": [
              "['Manuel Ponte', 23, 'False']"
            ]
          },
          "execution_count": 27,
          "metadata": {
            "tags": []
          },
          "output_type": "execute_result"
        }
      ],
      "source": [
        "Estudiante"
      ]
    },
    {
      "cell_type": "markdown",
      "metadata": {
        "id": "ylr-kQHMZufu"
      },
      "source": [
        "Nota que hay varios tipos de datos en la lista:\n",
        "\n",
        "Nombre y apellido es texto o caracteres.\n",
        "* edad es un numero.\n",
        "* Mujer es un valor lógico.\n",
        "* Para acceder a cada uno de los elemento tu lista:"
      ]
    },
    {
      "cell_type": "code",
      "execution_count": null,
      "metadata": {
        "id": "ScapVPGqZrr_"
      },
      "outputs": [],
      "source": [
        "Estudiante[0] # primer elemento comienza con indice '0'"
      ]
    },
    {
      "cell_type": "code",
      "execution_count": null,
      "metadata": {
        "id": "89gkuSyUZ3A-"
      },
      "outputs": [],
      "source": [
        "Estudiante[:2] # todo antes de índice 2 "
      ]
    },
    {
      "cell_type": "code",
      "execution_count": null,
      "metadata": {
        "id": "5tIiEfIzZ4N-"
      },
      "outputs": [],
      "source": [
        "Estudiante[-1] # ultimo elementos"
      ]
    },
    {
      "cell_type": "markdown",
      "metadata": {
        "id": "BaaeCQirZ8xX"
      },
      "source": [
        "###Tuplas\n",
        "\n",
        "En Python una tupla es una estructura de datos que representa una colección de objetos, pudiendo estos ser de distintos tipos. Internamente, para representar una tupla, Python utiliza un array de objetos que almacena referencias hacia otros objetos."
      ]
    },
    {
      "cell_type": "markdown",
      "metadata": {
        "id": "xY81nTE5aloW"
      },
      "source": [
        "Al principio parace que fueran listas:"
      ]
    },
    {
      "cell_type": "code",
      "execution_count": 42,
      "metadata": {
        "colab": {
          "base_uri": "https://localhost:8080/"
        },
        "id": "UY6FlHFMZ_Kn",
        "outputId": "1fe2cb00-6c66-43fd-b726-294bb0080753"
      },
      "outputs": [
        {
          "data": {
            "text/plain": [
              "['Omar Escobedo', 23, 'False']"
            ]
          },
          "execution_count": 42,
          "metadata": {
            "tags": []
          },
          "output_type": "execute_result"
        }
      ],
      "source": [
        "Estudiante[0]='Omar Escobedo'\n",
        "Estudiante"
      ]
    },
    {
      "cell_type": "markdown",
      "metadata": {
        "id": "6_xzWLFFa5Sy"
      },
      "source": [
        "\n",
        "Para crearlas puedes usar '( )', el comando tuple() o nada:"
      ]
    },
    {
      "cell_type": "code",
      "execution_count": 43,
      "metadata": {
        "colab": {
          "base_uri": "https://localhost:8080/"
        },
        "id": "8R4sGH0faCBf",
        "outputId": "3657505f-4fe6-4708-c4fe-a681c3f4c3b7"
      },
      "outputs": [
        {
          "data": {
            "text/plain": [
              "('Karolayne Pacherres', 23, 'True')"
            ]
          },
          "execution_count": 43,
          "metadata": {
            "tags": []
          },
          "output_type": "execute_result"
        }
      ],
      "source": [
        "Estudiantetupla='Karolayne Pacherres',23,'True'\n",
        "Estudiantetupla"
      ]
    },
    {
      "cell_type": "code",
      "execution_count": 44,
      "metadata": {
        "colab": {
          "base_uri": "https://localhost:8080/",
          "height": 35
        },
        "id": "5oOF7amda9oj",
        "outputId": "4355d681-6c3a-4447-cdbe-e37a6bec8073"
      },
      "outputs": [
        {
          "data": {
            "application/vnd.google.colaboratory.intrinsic+json": {
              "type": "string"
            },
            "text/plain": [
              "'Karolayne Pacherres'"
            ]
          },
          "execution_count": 44,
          "metadata": {
            "tags": []
          },
          "output_type": "execute_result"
        }
      ],
      "source": [
        "#Se puede realizar la consulta a través del índice que ocupa en la misma.\n",
        "#exactamente igual que un array\n",
        "Estudiantetupla[0]"
      ]
    },
    {
      "cell_type": "markdown",
      "metadata": {
        "id": "u0FVHIUjbAbC"
      },
      "source": [
        "Dado que una tupla puede almacenar distintos tipos de objetos, es posible anidar diferentes tuplas; veamos un sencillo ejemplo:"
      ]
    },
    {
      "cell_type": "code",
      "execution_count": 46,
      "metadata": {
        "colab": {
          "base_uri": "https://localhost:8080/"
        },
        "id": "2bMzP40IbEOn",
        "outputId": "1e4032e7-1e9a-4cca-f7e2-db5dae5f14bc"
      },
      "outputs": [
        {
          "data": {
            "text/plain": [
              "(1, ('a', 3), 5.6)"
            ]
          },
          "execution_count": 46,
          "metadata": {
            "tags": []
          },
          "output_type": "execute_result"
        }
      ],
      "source": [
        "t = (1, (\"a\", 3), 5.6)\n",
        "t"
      ]
    },
    {
      "cell_type": "markdown",
      "metadata": {
        "id": "P9w39gtdbT3a"
      },
      "source": [
        "###Diccionario\n",
        "Los Diccionarios, superficialmente, son lo más similares a las listas de R"
      ]
    },
    {
      "cell_type": "code",
      "execution_count": 30,
      "metadata": {
        "colab": {
          "base_uri": "https://localhost:8080/"
        },
        "id": "GMqlynXTbbbe",
        "outputId": "cbefffc9-6348-4e6b-c42d-c183ec987882"
      },
      "outputs": [
        {
          "data": {
            "text/plain": [
              "{'Nombres': 'Manuel Ponte', 'edad': 23, 'femenino': False}"
            ]
          },
          "execution_count": 30,
          "metadata": {
            "tags": []
          },
          "output_type": "execute_result"
        }
      ],
      "source": [
        "# creando diccionarios:\n",
        "EstudianteDict={'Nombres':\"Manuel Ponte\",\n",
        "               'edad':23,\n",
        "               'femenino':False}\n",
        "#en los diccionarios se deben indicar los nombres de los atributos\n",
        "# seeing it:\n",
        "EstudianteDict"
      ]
    },
    {
      "cell_type": "markdown",
      "metadata": {
        "id": "7NDKkzv2bdyt"
      },
      "source": [
        "Pero no tienen índices:"
      ]
    },
    {
      "cell_type": "code",
      "execution_count": 31,
      "metadata": {
        "colab": {
          "base_uri": "https://localhost:8080/",
          "height": 163
        },
        "id": "DYlOLCx2bgTf",
        "outputId": "1de89585-4f42-4fa2-8eb2-ddf969c80a8a"
      },
      "outputs": [
        {
          "ename": "KeyError",
          "evalue": "ignored",
          "output_type": "error",
          "traceback": [
            "\u001b[0;31m---------------------------------------------------------------------------\u001b[0m",
            "\u001b[0;31mKeyError\u001b[0m                                  Traceback (most recent call last)",
            "\u001b[0;32m<ipython-input-31-9f38b07bc1c2>\u001b[0m in \u001b[0;36m<module>\u001b[0;34m()\u001b[0m\n\u001b[0;32m----> 1\u001b[0;31m \u001b[0mEstudianteDict\u001b[0m\u001b[0;34m[\u001b[0m\u001b[0;36m0\u001b[0m\u001b[0;34m]\u001b[0m\u001b[0;34m\u001b[0m\u001b[0;34m\u001b[0m\u001b[0m\n\u001b[0m",
            "\u001b[0;31mKeyError\u001b[0m: 0"
          ]
        }
      ],
      "source": [
        "EstudianteDict[0]"
      ]
    },
    {
      "cell_type": "markdown",
      "metadata": {
        "id": "_vvVSg5ebltu"
      },
      "source": [
        "Pare ver un elemento, tienes que saber el nombre de su campo ('key'):"
      ]
    },
    {
      "cell_type": "code",
      "execution_count": 32,
      "metadata": {
        "colab": {
          "base_uri": "https://localhost:8080/"
        },
        "id": "awWULXTNbm6y",
        "outputId": "d70aa250-c7be-468a-f7d7-acfb69350d8e"
      },
      "outputs": [
        {
          "data": {
            "text/plain": [
              "23"
            ]
          },
          "execution_count": 32,
          "metadata": {
            "tags": []
          },
          "output_type": "execute_result"
        }
      ],
      "source": [
        "EstudianteDict['edad']"
      ]
    },
    {
      "cell_type": "code",
      "execution_count": 33,
      "metadata": {
        "colab": {
          "base_uri": "https://localhost:8080/"
        },
        "id": "T_vfcO7vbvvZ",
        "outputId": "48b586b6-9e54-4fc1-a841-91cb7cedb6c1"
      },
      "outputs": [
        {
          "data": {
            "text/plain": [
              "dict"
            ]
          },
          "execution_count": 33,
          "metadata": {
            "tags": []
          },
          "output_type": "execute_result"
        }
      ],
      "source": [
        "type(EstudianteDict)"
      ]
    },
    {
      "cell_type": "markdown",
      "metadata": {
        "id": "8qRAn1G1cTEh"
      },
      "source": [
        "### Data Frames\n",
        "\n",
        "Los Data Frames pueden interpretarse como estructuras compuestas en base a las simples. Python requiere que llamemos al paquete pandas para usar DFs:"
      ]
    },
    {
      "cell_type": "code",
      "execution_count": 41,
      "metadata": {
        "id": "Sgl9lS1ncapA"
      },
      "outputs": [],
      "source": [
        "import pandas as pd\n",
        "\n",
        "# estas son columnas:\n",
        "#listas de columnas\n",
        "\n",
        "nombres=[\"Manuel\", \"Karen\", \"Karolayne\", \"Omar\"]\n",
        "edad=[23,29,23,26]\n",
        "pais=[\"Ecuador\", \"Perú\", \"Brasil\", \"Argentina\"]\n",
        "educacion=[\"Bach\", \"Lic\", \"Bach\", \"PhD\"]"
      ]
    },
    {
      "cell_type": "code",
      "execution_count": 35,
      "metadata": {
        "id": "S7p66eSGcdsm"
      },
      "outputs": [],
      "source": [
        "# las llevamos a diccionario:\n",
        "data={'nombres':nombres, 'edad':edad, 'pais':pais, 'educacion':educacion}"
      ]
    },
    {
      "cell_type": "markdown",
      "metadata": {
        "id": "gRUhWiQkcf27"
      },
      "source": [
        "...y de dict a DF:"
      ]
    },
    {
      "cell_type": "code",
      "execution_count": 36,
      "metadata": {
        "colab": {
          "base_uri": "https://localhost:8080/",
          "height": 173
        },
        "id": "nuFh_I4HcgXb",
        "outputId": "a127fcbc-1935-4d0f-d553-6e507918acd1"
      },
      "outputs": [
        {
          "data": {
            "text/html": [
              "<div>\n",
              "<style scoped>\n",
              "    .dataframe tbody tr th:only-of-type {\n",
              "        vertical-align: middle;\n",
              "    }\n",
              "\n",
              "    .dataframe tbody tr th {\n",
              "        vertical-align: top;\n",
              "    }\n",
              "\n",
              "    .dataframe thead th {\n",
              "        text-align: right;\n",
              "    }\n",
              "</style>\n",
              "<table border=\"1\" class=\"dataframe\">\n",
              "  <thead>\n",
              "    <tr style=\"text-align: right;\">\n",
              "      <th></th>\n",
              "      <th>nombres</th>\n",
              "      <th>edad</th>\n",
              "      <th>pais</th>\n",
              "      <th>educacion</th>\n",
              "    </tr>\n",
              "  </thead>\n",
              "  <tbody>\n",
              "    <tr>\n",
              "      <th>0</th>\n",
              "      <td>Manuel</td>\n",
              "      <td>23</td>\n",
              "      <td>Ecuador</td>\n",
              "      <td>Bach</td>\n",
              "    </tr>\n",
              "    <tr>\n",
              "      <th>1</th>\n",
              "      <td>Karen</td>\n",
              "      <td>29</td>\n",
              "      <td>Perú</td>\n",
              "      <td>Lic</td>\n",
              "    </tr>\n",
              "    <tr>\n",
              "      <th>2</th>\n",
              "      <td>Karolayne</td>\n",
              "      <td>23</td>\n",
              "      <td>Brasil</td>\n",
              "      <td>Bach</td>\n",
              "    </tr>\n",
              "    <tr>\n",
              "      <th>3</th>\n",
              "      <td>Omar</td>\n",
              "      <td>26</td>\n",
              "      <td>Argentina</td>\n",
              "      <td>PhD</td>\n",
              "    </tr>\n",
              "  </tbody>\n",
              "</table>\n",
              "</div>"
            ],
            "text/plain": [
              "     nombres  edad       pais educacion\n",
              "0     Manuel    23    Ecuador      Bach\n",
              "1      Karen    29       Perú       Lic\n",
              "2  Karolayne    23     Brasil      Bach\n",
              "3       Omar    26  Argentina       PhD"
            ]
          },
          "execution_count": 36,
          "metadata": {
            "tags": []
          },
          "output_type": "execute_result"
        }
      ],
      "source": [
        "estudiantes=pd.DataFrame(data)\n",
        "# check it:\n",
        "estudiantes"
      ]
    },
    {
      "cell_type": "code",
      "execution_count": null,
      "metadata": {
        "id": "85wIwfRacnpu"
      },
      "outputs": [],
      "source": [
        "type(estudiantes)"
      ]
    },
    {
      "cell_type": "markdown",
      "metadata": {
        "id": "A2DlhjBVcF5a"
      },
      "source": [
        "#PRACTICA 01\n",
        "\n",
        "1.   Busque un personaje publico de su preferencia en wikipedia\n",
        "2.   Haga un diccionario de la manera más simple.\n",
        "3.   Haga luego un diccionario usando donde se pueda otras estructuras (listas, tuplas, diccionarios) \n",
        "\n",
        "\n",
        "\n",
        "\n"
      ]
    },
    {
      "cell_type": "code",
      "execution_count": 37,
      "metadata": {
        "colab": {
          "base_uri": "https://localhost:8080/"
        },
        "id": "BmXlL5fmdnev",
        "outputId": "5ae5320c-c9d8-4454-c938-dd5f9fb0d101"
      },
      "outputs": [
        {
          "data": {
            "text/plain": [
              "{'Residencia': 'Santiago, Chile',\n",
              " 'cónyugue': 'Jorge Dávalos Cartes',\n",
              " 'educada en': 'Universidad de Chile',\n",
              " 'hijos': 'Sebastián , Francisca , Sofía',\n",
              " 'lengua materna': 'Español',\n",
              " 'nacimiento': '29 de septiembre de 1951',\n",
              " 'nacionalidad': 'Chilena',\n",
              " 'nombre en español': 'Verónica Michelle Bachelet Jeria',\n",
              " 'ocupación': 'médico',\n",
              " 'padres': 'Ángela Jeria Gómez , Alberto Bachelet Martínez',\n",
              " 'partido político': 'Partido Socialista',\n",
              " 'religión': 'Agnosticismo'}"
            ]
          },
          "execution_count": 37,
          "metadata": {
            "tags": []
          },
          "output_type": "execute_result"
        }
      ],
      "source": [
        "Bachelet={'nombre en español':\"Verónica Michelle Bachelet Jeria\",\n",
        "               'nacimiento':\"29 de septiembre de 1951\",\n",
        "               'Residencia':\"Santiago, Chile\",\n",
        "         'nacionalidad':\"Chilena\",\n",
        "         'lengua materna':\"Español\",\n",
        "         'religión':\"Agnosticismo\",\n",
        "         'partido político':\"Partido Socialista\",\n",
        "         'padres':\"Ángela Jeria Gómez , Alberto Bachelet Martínez\",\n",
        "         'cónyugue':\"Jorge Dávalos Cartes\",\n",
        "         'hijos':\"Sebastián , Francisca , Sofía\",\n",
        "         'educada en':\"Universidad de Chile\",\n",
        "         'ocupación':\"médico\",}\n",
        "Bachelet"
      ]
    },
    {
      "cell_type": "code",
      "execution_count": 38,
      "metadata": {
        "id": "sG1cxashdpn1"
      },
      "outputs": [],
      "source": [
        "padres=[\"Ángela Jeria Gómez\",\"Alberto Bachelet Martínez\"]\n",
        "hijos=[\"Sebastián\",\"Francisca\", \"Sofía\"]"
      ]
    },
    {
      "cell_type": "code",
      "execution_count": 39,
      "metadata": {
        "colab": {
          "base_uri": "https://localhost:8080/"
        },
        "id": "jhV9u-tVdrql",
        "outputId": "a1052bab-0c9a-4d21-e4a7-4ffd0e74ca10"
      },
      "outputs": [
        {
          "data": {
            "text/plain": [
              "{'Residencia': 'Santiago, Chile',\n",
              " 'cónyugue': 'Jorge Dávalos Cartes',\n",
              " 'educada en': 'Universidad de Chile',\n",
              " 'hijos': ['Sebastián', 'Francisca', 'Sofía'],\n",
              " 'lengua materna': 'Español',\n",
              " 'nacimiento': '29 de septiembre de 1951',\n",
              " 'nacionalidad': 'Chilena',\n",
              " 'nombre en español': 'Verónica Michelle Bachelet Jeria',\n",
              " 'ocupación': 'médico',\n",
              " 'padres': ['Ángela Jeria Gómez', 'Alberto Bachelet Martínez'],\n",
              " 'partido político': 'Partido Socialista',\n",
              " 'religión': 'Agnosticismo'}"
            ]
          },
          "execution_count": 39,
          "metadata": {
            "tags": []
          },
          "output_type": "execute_result"
        }
      ],
      "source": [
        "Bachelet={'nombre en español':\"Verónica Michelle Bachelet Jeria\",\n",
        "               'nacimiento':\"29 de septiembre de 1951\",\n",
        "               'Residencia':\"Santiago, Chile\",\n",
        "         'nacionalidad':\"Chilena\",\n",
        "         'lengua materna':\"Español\",\n",
        "         'religión':\"Agnosticismo\",\n",
        "         'partido político':\"Partido Socialista\",\n",
        "         'padres':padres,\n",
        "         'cónyugue':\"Jorge Dávalos Cartes\",\n",
        "         'hijos':hijos,\n",
        "         'educada en':\"Universidad de Chile\",\n",
        "         'ocupación':\"médico\",}\n",
        "Bachelet"
      ]
    },
    {
      "cell_type": "code",
      "execution_count": 40,
      "metadata": {
        "colab": {
          "base_uri": "https://localhost:8080/"
        },
        "id": "nmXorphBdtcF",
        "outputId": "5431dc22-df07-4ae1-e38a-cb5b3193eda1"
      },
      "outputs": [
        {
          "data": {
            "text/plain": [
              "dict"
            ]
          },
          "execution_count": 40,
          "metadata": {
            "tags": []
          },
          "output_type": "execute_result"
        }
      ],
      "source": [
        "type(Bachelet)"
      ]
    }
  ],
  "metadata": {
    "colab": {
      "authorship_tag": "ABX9TyNRFIj9FanI2EL3A9y7hECc",
      "collapsed_sections": [],
      "include_colab_link": true,
      "name": "Session01-introduction_to_python.ipynb",
      "provenance": [],
      "toc_visible": true
    },
    "kernelspec": {
      "display_name": "Python 3",
      "name": "python3"
    }
  },
  "nbformat": 4,
  "nbformat_minor": 0
}
